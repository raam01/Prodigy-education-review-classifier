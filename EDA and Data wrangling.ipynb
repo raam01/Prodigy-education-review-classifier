{
 "cells": [
  {
   "cell_type": "markdown",
   "metadata": {},
   "source": [
    "# Data Wrangling and EDA - Prodigy Education review classifier\n",
    "## Contents\n",
    "    1.Introduction\n",
    "    2. Imports\n",
    "    3. Data Exploration\n",
    "        3.1 Checking data types\n",
    "        3.2 Exploratory Data Analysis\n",
    "            3.2.1 Types of issues\n",
    "            3.2.2 Versions reviewed\n",
    "            3.2.3 Reviews with most agreement\n",
    "            3.2.4 Response from developer by type of issue\n",
    "            3.2.5 Distribution of issues over time\n",
    "    4. Preprocessing\n",
    "        4.1 Function to clean text\n",
    "        4.2 Converting into clean text\n",
    "        4.3 Function to Lemmatize text\n",
    "        4.4 Applying Lemmatization\n",
    "        4.5 Removing Unnecessary data\n",
    "        4.6 Export data as CSV\n",
    "    5. Summary"
   ]
  },
  {
   "cell_type": "markdown",
   "metadata": {},
   "source": [
    "## 1.Introduction\n",
    "\n",
    "In this notebook, the one star reviews that were scraped from Prodigy education's Google play store reviews are being wrangled and data exploration is performed. "
   ]
  },
  {
   "cell_type": "markdown",
   "metadata": {},
   "source": [
    "## 2. Imports"
   ]
  },
  {
   "cell_type": "code",
   "execution_count": 1,
   "metadata": {},
   "outputs": [],
   "source": [
    "#import packages\n",
    "import pandas as pd\n",
    "import numpy as np\n",
    "import matplotlib.pyplot as plt\n",
    "import seaborn as sns\n",
    "from matplotlib.pyplot import figure\n",
    "import re\n",
    "import pickle\n",
    "from nltk.stem import WordNetLemmatizer  #to lematize words"
   ]
  },
  {
   "cell_type": "code",
   "execution_count": 2,
   "metadata": {},
   "outputs": [],
   "source": [
    "#Import the data\n",
    "one_star_reviews=pd.read_csv(\"one_star_updated.csv\")"
   ]
  },
  {
   "cell_type": "markdown",
   "metadata": {},
   "source": [
    "## 3. Data Exploration\n",
    "## 3.1 Checking data types"
   ]
  },
  {
   "cell_type": "code",
   "execution_count": 3,
   "metadata": {
    "scrolled": true
   },
   "outputs": [
    {
     "data": {
      "text/html": [
       "<div>\n",
       "<style scoped>\n",
       "    .dataframe tbody tr th:only-of-type {\n",
       "        vertical-align: middle;\n",
       "    }\n",
       "\n",
       "    .dataframe tbody tr th {\n",
       "        vertical-align: top;\n",
       "    }\n",
       "\n",
       "    .dataframe thead th {\n",
       "        text-align: right;\n",
       "    }\n",
       "</style>\n",
       "<table border=\"1\" class=\"dataframe\">\n",
       "  <thead>\n",
       "    <tr style=\"text-align: right;\">\n",
       "      <th></th>\n",
       "      <th>Unnamed: 0</th>\n",
       "      <th>reviewId</th>\n",
       "      <th>userName</th>\n",
       "      <th>userImage</th>\n",
       "      <th>content</th>\n",
       "      <th>reason</th>\n",
       "      <th>score</th>\n",
       "      <th>thumbsUpCount</th>\n",
       "      <th>reviewCreatedVersion</th>\n",
       "      <th>at</th>\n",
       "      <th>replyContent</th>\n",
       "      <th>repliedAt</th>\n",
       "    </tr>\n",
       "  </thead>\n",
       "  <tbody>\n",
       "    <tr>\n",
       "      <th>0</th>\n",
       "      <td>0</td>\n",
       "      <td>gp:AOqpTOHGo5DvHMAsWL348tPB0UyWXab1Cf8r4JFAvkQ...</td>\n",
       "      <td>Lucas Nauerz 2</td>\n",
       "      <td>https://play-lh.googleusercontent.com/a/AATXAJ...</td>\n",
       "      <td>Terrible</td>\n",
       "      <td>No specific reason</td>\n",
       "      <td>1</td>\n",
       "      <td>0</td>\n",
       "      <td>4.0.1</td>\n",
       "      <td>2021-07-12 23:46:34</td>\n",
       "      <td>NaN</td>\n",
       "      <td>NaN</td>\n",
       "    </tr>\n",
       "    <tr>\n",
       "      <th>1</th>\n",
       "      <td>1</td>\n",
       "      <td>gp:AOqpTOEmolYJbr7nOSKFkD6D0aOS2XCwgfX_vXdbOlx...</td>\n",
       "      <td>Liam Wrona</td>\n",
       "      <td>https://play-lh.googleusercontent.com/a/AATXAJ...</td>\n",
       "      <td>This is a horrible app! You have to have a mem...</td>\n",
       "      <td>Gameplay</td>\n",
       "      <td>1</td>\n",
       "      <td>11</td>\n",
       "      <td>4.0.1</td>\n",
       "      <td>2021-07-12 16:54:28</td>\n",
       "      <td>NaN</td>\n",
       "      <td>NaN</td>\n",
       "    </tr>\n",
       "    <tr>\n",
       "      <th>2</th>\n",
       "      <td>2</td>\n",
       "      <td>gp:AOqpTOEHBo9TDJOlSMQEC4qz1w0aKgb4L0gGfdGKxbS...</td>\n",
       "      <td>Alpha Wolf</td>\n",
       "      <td>https://play-lh.googleusercontent.com/a-/AOh14...</td>\n",
       "      <td>This game is hella pay to win. Everything revo...</td>\n",
       "      <td>Gameplay</td>\n",
       "      <td>1</td>\n",
       "      <td>9</td>\n",
       "      <td>4.0.1</td>\n",
       "      <td>2021-07-11 23:20:59</td>\n",
       "      <td>NaN</td>\n",
       "      <td>NaN</td>\n",
       "    </tr>\n",
       "    <tr>\n",
       "      <th>3</th>\n",
       "      <td>3</td>\n",
       "      <td>gp:AOqpTOFK5o4TR7Wmst5jhrpg5zaqOAnpedisM27MqH_...</td>\n",
       "      <td>Ana Caballero</td>\n",
       "      <td>https://play-lh.googleusercontent.com/a/AATXAJ...</td>\n",
       "      <td>HORIBLE this gam is bad on phones and wont let...</td>\n",
       "      <td>Technical</td>\n",
       "      <td>1</td>\n",
       "      <td>0</td>\n",
       "      <td>NaN</td>\n",
       "      <td>2021-07-10 00:34:59</td>\n",
       "      <td>NaN</td>\n",
       "      <td>NaN</td>\n",
       "    </tr>\n",
       "    <tr>\n",
       "      <th>4</th>\n",
       "      <td>4</td>\n",
       "      <td>gp:AOqpTOE50ai2RKBeeLzmIOkn7RMBOD1xOtgzBzi341g...</td>\n",
       "      <td>RR ASHRINDRA</td>\n",
       "      <td>https://play-lh.googleusercontent.com/a-/AOh14...</td>\n",
       "      <td>It USED to be a good game until they added mem...</td>\n",
       "      <td>Membership</td>\n",
       "      <td>1</td>\n",
       "      <td>13</td>\n",
       "      <td>NaN</td>\n",
       "      <td>2021-07-09 21:49:48</td>\n",
       "      <td>NaN</td>\n",
       "      <td>NaN</td>\n",
       "    </tr>\n",
       "  </tbody>\n",
       "</table>\n",
       "</div>"
      ],
      "text/plain": [
       "   Unnamed: 0                                           reviewId  \\\n",
       "0           0  gp:AOqpTOHGo5DvHMAsWL348tPB0UyWXab1Cf8r4JFAvkQ...   \n",
       "1           1  gp:AOqpTOEmolYJbr7nOSKFkD6D0aOS2XCwgfX_vXdbOlx...   \n",
       "2           2  gp:AOqpTOEHBo9TDJOlSMQEC4qz1w0aKgb4L0gGfdGKxbS...   \n",
       "3           3  gp:AOqpTOFK5o4TR7Wmst5jhrpg5zaqOAnpedisM27MqH_...   \n",
       "4           4  gp:AOqpTOE50ai2RKBeeLzmIOkn7RMBOD1xOtgzBzi341g...   \n",
       "\n",
       "         userName                                          userImage  \\\n",
       "0  Lucas Nauerz 2  https://play-lh.googleusercontent.com/a/AATXAJ...   \n",
       "1      Liam Wrona  https://play-lh.googleusercontent.com/a/AATXAJ...   \n",
       "2      Alpha Wolf  https://play-lh.googleusercontent.com/a-/AOh14...   \n",
       "3   Ana Caballero  https://play-lh.googleusercontent.com/a/AATXAJ...   \n",
       "4    RR ASHRINDRA  https://play-lh.googleusercontent.com/a-/AOh14...   \n",
       "\n",
       "                                             content              reason  \\\n",
       "0                                           Terrible  No specific reason   \n",
       "1  This is a horrible app! You have to have a mem...            Gameplay   \n",
       "2  This game is hella pay to win. Everything revo...            Gameplay   \n",
       "3  HORIBLE this gam is bad on phones and wont let...           Technical   \n",
       "4  It USED to be a good game until they added mem...          Membership   \n",
       "\n",
       "   score  thumbsUpCount reviewCreatedVersion                   at  \\\n",
       "0      1              0                4.0.1  2021-07-12 23:46:34   \n",
       "1      1             11                4.0.1  2021-07-12 16:54:28   \n",
       "2      1              9                4.0.1  2021-07-11 23:20:59   \n",
       "3      1              0                  NaN  2021-07-10 00:34:59   \n",
       "4      1             13                  NaN  2021-07-09 21:49:48   \n",
       "\n",
       "  replyContent repliedAt  \n",
       "0          NaN       NaN  \n",
       "1          NaN       NaN  \n",
       "2          NaN       NaN  \n",
       "3          NaN       NaN  \n",
       "4          NaN       NaN  "
      ]
     },
     "execution_count": 3,
     "metadata": {},
     "output_type": "execute_result"
    }
   ],
   "source": [
    "#Review how it looks in pandas\n",
    "one_star_reviews.head()"
   ]
  },
  {
   "cell_type": "code",
   "execution_count": 4,
   "metadata": {},
   "outputs": [
    {
     "data": {
      "text/plain": [
       "Unnamed: 0               int64\n",
       "reviewId                object\n",
       "userName                object\n",
       "userImage               object\n",
       "content                 object\n",
       "reason                  object\n",
       "score                    int64\n",
       "thumbsUpCount            int64\n",
       "reviewCreatedVersion    object\n",
       "at                      object\n",
       "replyContent            object\n",
       "repliedAt               object\n",
       "dtype: object"
      ]
     },
     "execution_count": 4,
     "metadata": {},
     "output_type": "execute_result"
    }
   ],
   "source": [
    "#Check datatypes\n",
    "one_star_reviews.dtypes"
   ]
  },
  {
   "cell_type": "code",
   "execution_count": 5,
   "metadata": {},
   "outputs": [
    {
     "data": {
      "text/plain": [
       "Index(['Unnamed: 0', 'reviewId', 'userName', 'userImage', 'content', 'reason',\n",
       "       'score', 'thumbsUpCount', 'reviewCreatedVersion', 'at', 'replyContent',\n",
       "       'repliedAt'],\n",
       "      dtype='object')"
      ]
     },
     "execution_count": 5,
     "metadata": {},
     "output_type": "execute_result"
    }
   ],
   "source": [
    "one_star_reviews.columns"
   ]
  },
  {
   "cell_type": "code",
   "execution_count": 6,
   "metadata": {},
   "outputs": [],
   "source": [
    "#Drop duplicate index, review ID, username and user Image\n",
    "one_star_reviews.drop(['Unnamed: 0', 'reviewId', 'userName', 'userImage'],axis=1,inplace=True)"
   ]
  },
  {
   "cell_type": "code",
   "execution_count": 7,
   "metadata": {},
   "outputs": [
    {
     "data": {
      "text/html": [
       "<div>\n",
       "<style scoped>\n",
       "    .dataframe tbody tr th:only-of-type {\n",
       "        vertical-align: middle;\n",
       "    }\n",
       "\n",
       "    .dataframe tbody tr th {\n",
       "        vertical-align: top;\n",
       "    }\n",
       "\n",
       "    .dataframe thead th {\n",
       "        text-align: right;\n",
       "    }\n",
       "</style>\n",
       "<table border=\"1\" class=\"dataframe\">\n",
       "  <thead>\n",
       "    <tr style=\"text-align: right;\">\n",
       "      <th></th>\n",
       "      <th>content</th>\n",
       "      <th>reason</th>\n",
       "      <th>score</th>\n",
       "      <th>thumbsUpCount</th>\n",
       "      <th>reviewCreatedVersion</th>\n",
       "      <th>at</th>\n",
       "      <th>replyContent</th>\n",
       "      <th>repliedAt</th>\n",
       "    </tr>\n",
       "  </thead>\n",
       "  <tbody>\n",
       "    <tr>\n",
       "      <th>0</th>\n",
       "      <td>Terrible</td>\n",
       "      <td>No specific reason</td>\n",
       "      <td>1</td>\n",
       "      <td>0</td>\n",
       "      <td>4.0.1</td>\n",
       "      <td>2021-07-12 23:46:34</td>\n",
       "      <td>NaN</td>\n",
       "      <td>NaN</td>\n",
       "    </tr>\n",
       "    <tr>\n",
       "      <th>1</th>\n",
       "      <td>This is a horrible app! You have to have a mem...</td>\n",
       "      <td>Gameplay</td>\n",
       "      <td>1</td>\n",
       "      <td>11</td>\n",
       "      <td>4.0.1</td>\n",
       "      <td>2021-07-12 16:54:28</td>\n",
       "      <td>NaN</td>\n",
       "      <td>NaN</td>\n",
       "    </tr>\n",
       "    <tr>\n",
       "      <th>2</th>\n",
       "      <td>This game is hella pay to win. Everything revo...</td>\n",
       "      <td>Gameplay</td>\n",
       "      <td>1</td>\n",
       "      <td>9</td>\n",
       "      <td>4.0.1</td>\n",
       "      <td>2021-07-11 23:20:59</td>\n",
       "      <td>NaN</td>\n",
       "      <td>NaN</td>\n",
       "    </tr>\n",
       "    <tr>\n",
       "      <th>3</th>\n",
       "      <td>HORIBLE this gam is bad on phones and wont let...</td>\n",
       "      <td>Technical</td>\n",
       "      <td>1</td>\n",
       "      <td>0</td>\n",
       "      <td>NaN</td>\n",
       "      <td>2021-07-10 00:34:59</td>\n",
       "      <td>NaN</td>\n",
       "      <td>NaN</td>\n",
       "    </tr>\n",
       "    <tr>\n",
       "      <th>4</th>\n",
       "      <td>It USED to be a good game until they added mem...</td>\n",
       "      <td>Membership</td>\n",
       "      <td>1</td>\n",
       "      <td>13</td>\n",
       "      <td>NaN</td>\n",
       "      <td>2021-07-09 21:49:48</td>\n",
       "      <td>NaN</td>\n",
       "      <td>NaN</td>\n",
       "    </tr>\n",
       "  </tbody>\n",
       "</table>\n",
       "</div>"
      ],
      "text/plain": [
       "                                             content              reason  \\\n",
       "0                                           Terrible  No specific reason   \n",
       "1  This is a horrible app! You have to have a mem...            Gameplay   \n",
       "2  This game is hella pay to win. Everything revo...            Gameplay   \n",
       "3  HORIBLE this gam is bad on phones and wont let...           Technical   \n",
       "4  It USED to be a good game until they added mem...          Membership   \n",
       "\n",
       "   score  thumbsUpCount reviewCreatedVersion                   at  \\\n",
       "0      1              0                4.0.1  2021-07-12 23:46:34   \n",
       "1      1             11                4.0.1  2021-07-12 16:54:28   \n",
       "2      1              9                4.0.1  2021-07-11 23:20:59   \n",
       "3      1              0                  NaN  2021-07-10 00:34:59   \n",
       "4      1             13                  NaN  2021-07-09 21:49:48   \n",
       "\n",
       "  replyContent repliedAt  \n",
       "0          NaN       NaN  \n",
       "1          NaN       NaN  \n",
       "2          NaN       NaN  \n",
       "3          NaN       NaN  \n",
       "4          NaN       NaN  "
      ]
     },
     "execution_count": 7,
     "metadata": {},
     "output_type": "execute_result"
    }
   ],
   "source": [
    "one_star_reviews.head()"
   ]
  },
  {
   "cell_type": "code",
   "execution_count": 8,
   "metadata": {},
   "outputs": [],
   "source": [
    "#Only reviews from last 1 year are tagged with the reason. So, create a dtaframe with just that data\n",
    "required_data=one_star_reviews.dropna(subset=[\"reason\"])"
   ]
  },
  {
   "cell_type": "code",
   "execution_count": 9,
   "metadata": {
    "scrolled": true
   },
   "outputs": [
    {
     "name": "stdout",
     "output_type": "stream",
     "text": [
      "content                   0\n",
      "reason                    0\n",
      "score                     0\n",
      "thumbsUpCount             0\n",
      "reviewCreatedVersion    207\n",
      "at                        0\n",
      "replyContent            421\n",
      "repliedAt               421\n",
      "dtype: int64\n",
      "(510, 8)\n"
     ]
    }
   ],
   "source": [
    "#Check null values of other columns\n",
    "print(required_data.isna().sum())\n",
    "print(required_data.shape)"
   ]
  },
  {
   "cell_type": "markdown",
   "metadata": {},
   "source": [
    "## 3.2 Exploratory Data Analysis\n",
    "## 3.2.1 Types of issues"
   ]
  },
  {
   "cell_type": "code",
   "execution_count": 10,
   "metadata": {},
   "outputs": [
    {
     "data": {
      "text/plain": [
       "Text(0.5, 1.0, 'Count of number of issues reported by customer by issue type')"
      ]
     },
     "execution_count": 10,
     "metadata": {},
     "output_type": "execute_result"
    },
    {
     "data": {
      "image/png": "[encoded data removed]",
      "text/plain": [
       "<Figure size 800x600 with 1 Axes>"
      ]
     },
     "metadata": {
      "needs_background": "light"
     },
     "output_type": "display_data"
    }
   ],
   "source": [
    "#Check total count by issue \n",
    "figure(figsize=(8, 6),dpi=100)\n",
    "sns.countplot(x='reason', data=required_data)\n",
    "plt.title(\"Count of number of issues reported by customer by issue type\")\n",
    "#required_data[\"reason\"].value_counts()"
   ]
  },
  {
   "cell_type": "markdown",
   "metadata": {},
   "source": [
    "## A lot of people leave 1 star reviews but do not give a valid reasoning. This is followed by Technical issues, Membership requirements and the Gameplay has the lowest count of issues."
   ]
  },
  {
   "cell_type": "markdown",
   "metadata": {},
   "source": [
    "## 3.2.2 Versions reviewed"
   ]
  },
  {
   "cell_type": "code",
   "execution_count": 11,
   "metadata": {},
   "outputs": [
    {
     "data": {
      "text/plain": [
       "Text(0.5, 1.0, 'Count of version reviewed')"
      ]
     },
     "execution_count": 11,
     "metadata": {},
     "output_type": "execute_result"
    },
    {
     "data": {
      "image/png": "[encoded data removed]",
      "text/plain": [
       "<Figure size 432x288 with 1 Axes>"
      ]
     },
     "metadata": {
      "needs_background": "light"
     },
     "output_type": "display_data"
    }
   ],
   "source": [
    "#plot of the version being reviewed\n",
    "figure(figsize=(6, 4))\n",
    "sns.countplot(x='reviewCreatedVersion', data=required_data)\n",
    "plt.title(\"Count of version reviewed\")\n",
    "#required_data.reviewCreatedVersion.value_counts()"
   ]
  },
  {
   "cell_type": "markdown",
   "metadata": {},
   "source": [
    "## It is important to note that the review version column has about 200 mising values. So, this could be older versions. But it is considered as relevant for now."
   ]
  },
  {
   "cell_type": "code",
   "execution_count": 12,
   "metadata": {},
   "outputs": [
    {
     "data": {
      "image/png": "[encoded data removed]",
      "text/plain": [
       "<Figure size 1080x432 with 1 Axes>"
      ]
     },
     "metadata": {
      "needs_background": "light"
     },
     "output_type": "display_data"
    }
   ],
   "source": [
    "split_by_reason_version=pd.DataFrame(required_data.groupby([\"reason\",\"reviewCreatedVersion\"])[\"score\"].sum())\n",
    "split_by_reason_version.reset_index(inplace=True)\n",
    "figure(figsize=(15, 6))\n",
    "sns.barplot(data=split_by_reason_version,hue=\"reason\",y=\"score\",x=\"reviewCreatedVersion\")\n",
    "plt.title(\"Number of issues by version and type of issue\")\n",
    "plt.legend(loc='upper right',title=\"Reason\")\n",
    "plt.show()"
   ]
  },
  {
   "cell_type": "markdown",
   "metadata": {},
   "source": [
    "### The number of technical issues in version 4.0.1 is higher than the number of other issues. But the quantity is not significantly different."
   ]
  },
  {
   "cell_type": "markdown",
   "metadata": {},
   "source": [
    "## 3.2.3 Reviews with most agreement"
   ]
  },
  {
   "cell_type": "code",
   "execution_count": 13,
   "metadata": {},
   "outputs": [
    {
     "data": {
      "text/html": [
       "<div>\n",
       "<style scoped>\n",
       "    .dataframe tbody tr th:only-of-type {\n",
       "        vertical-align: middle;\n",
       "    }\n",
       "\n",
       "    .dataframe tbody tr th {\n",
       "        vertical-align: top;\n",
       "    }\n",
       "\n",
       "    .dataframe thead th {\n",
       "        text-align: right;\n",
       "    }\n",
       "</style>\n",
       "<table border=\"1\" class=\"dataframe\">\n",
       "  <thead>\n",
       "    <tr style=\"text-align: right;\">\n",
       "      <th></th>\n",
       "      <th>content</th>\n",
       "      <th>reason</th>\n",
       "      <th>score</th>\n",
       "      <th>thumbsUpCount</th>\n",
       "      <th>reviewCreatedVersion</th>\n",
       "      <th>at</th>\n",
       "      <th>replyContent</th>\n",
       "      <th>repliedAt</th>\n",
       "    </tr>\n",
       "  </thead>\n",
       "  <tbody>\n",
       "    <tr>\n",
       "      <th>321</th>\n",
       "      <td>I love prodigy I use to play it more often, bu...</td>\n",
       "      <td>Membership</td>\n",
       "      <td>1</td>\n",
       "      <td>201</td>\n",
       "      <td>3.5.0</td>\n",
       "      <td>2020-10-23 09:03:07</td>\n",
       "      <td>NaN</td>\n",
       "      <td>NaN</td>\n",
       "    </tr>\n",
       "    <tr>\n",
       "      <th>278</th>\n",
       "      <td>I really like this game. Everything is appeali...</td>\n",
       "      <td>Membership</td>\n",
       "      <td>1</td>\n",
       "      <td>173</td>\n",
       "      <td>3.5.0</td>\n",
       "      <td>2020-11-18 14:01:48</td>\n",
       "      <td>NaN</td>\n",
       "      <td>NaN</td>\n",
       "    </tr>\n",
       "    <tr>\n",
       "      <th>353</th>\n",
       "      <td>The PC experience is great. Fun math game with...</td>\n",
       "      <td>Gameplay</td>\n",
       "      <td>1</td>\n",
       "      <td>145</td>\n",
       "      <td>3.5.0</td>\n",
       "      <td>2020-10-03 05:23:02</td>\n",
       "      <td>Hi there, we're sorry you're experiencing a pr...</td>\n",
       "      <td>2020-10-07 09:59:21</td>\n",
       "    </tr>\n",
       "    <tr>\n",
       "      <th>34</th>\n",
       "      <td>I mean, this used to be an awesome game, espec...</td>\n",
       "      <td>Membership</td>\n",
       "      <td>1</td>\n",
       "      <td>141</td>\n",
       "      <td>4.0.1</td>\n",
       "      <td>2021-06-10 19:57:09</td>\n",
       "      <td>NaN</td>\n",
       "      <td>NaN</td>\n",
       "    </tr>\n",
       "    <tr>\n",
       "      <th>343</th>\n",
       "      <td>I hate this. Everything is for members. You ex...</td>\n",
       "      <td>Membership</td>\n",
       "      <td>1</td>\n",
       "      <td>119</td>\n",
       "      <td>3.5.0</td>\n",
       "      <td>2020-10-11 10:56:53</td>\n",
       "      <td>NaN</td>\n",
       "      <td>NaN</td>\n",
       "    </tr>\n",
       "    <tr>\n",
       "      <th>227</th>\n",
       "      <td>I hate this game, I keep getting kicked out ag...</td>\n",
       "      <td>Membership</td>\n",
       "      <td>1</td>\n",
       "      <td>110</td>\n",
       "      <td>4.0.1</td>\n",
       "      <td>2021-01-01 14:35:39</td>\n",
       "      <td>NaN</td>\n",
       "      <td>NaN</td>\n",
       "    </tr>\n",
       "    <tr>\n",
       "      <th>130</th>\n",
       "      <td>THE MEMBERSHIP SUCKS!! AND CHANGE THE PETS BAC...</td>\n",
       "      <td>Membership</td>\n",
       "      <td>1</td>\n",
       "      <td>78</td>\n",
       "      <td>4.0.1</td>\n",
       "      <td>2021-03-18 18:14:28</td>\n",
       "      <td>NaN</td>\n",
       "      <td>NaN</td>\n",
       "    </tr>\n",
       "    <tr>\n",
       "      <th>169</th>\n",
       "      <td>I was on board until I went to evolve my pet a...</td>\n",
       "      <td>Membership</td>\n",
       "      <td>1</td>\n",
       "      <td>63</td>\n",
       "      <td>4.0.1</td>\n",
       "      <td>2021-02-23 21:27:12</td>\n",
       "      <td>NaN</td>\n",
       "      <td>NaN</td>\n",
       "    </tr>\n",
       "    <tr>\n",
       "      <th>175</th>\n",
       "      <td>I used to love this game, but now. There r pro...</td>\n",
       "      <td>Technical</td>\n",
       "      <td>1</td>\n",
       "      <td>49</td>\n",
       "      <td>4.0.1</td>\n",
       "      <td>2021-02-14 18:27:29</td>\n",
       "      <td>NaN</td>\n",
       "      <td>NaN</td>\n",
       "    </tr>\n",
       "    <tr>\n",
       "      <th>489</th>\n",
       "      <td>Prodigy would not even let me type in an answe...</td>\n",
       "      <td>Technical</td>\n",
       "      <td>1</td>\n",
       "      <td>49</td>\n",
       "      <td>3.4.1</td>\n",
       "      <td>2020-06-23 14:03:33</td>\n",
       "      <td>NaN</td>\n",
       "      <td>NaN</td>\n",
       "    </tr>\n",
       "  </tbody>\n",
       "</table>\n",
       "</div>"
      ],
      "text/plain": [
       "                                               content      reason  score  \\\n",
       "321  I love prodigy I use to play it more often, bu...  Membership      1   \n",
       "278  I really like this game. Everything is appeali...  Membership      1   \n",
       "353  The PC experience is great. Fun math game with...    Gameplay      1   \n",
       "34   I mean, this used to be an awesome game, espec...  Membership      1   \n",
       "343  I hate this. Everything is for members. You ex...  Membership      1   \n",
       "227  I hate this game, I keep getting kicked out ag...  Membership      1   \n",
       "130  THE MEMBERSHIP SUCKS!! AND CHANGE THE PETS BAC...  Membership      1   \n",
       "169  I was on board until I went to evolve my pet a...  Membership      1   \n",
       "175  I used to love this game, but now. There r pro...   Technical      1   \n",
       "489  Prodigy would not even let me type in an answe...   Technical      1   \n",
       "\n",
       "     thumbsUpCount reviewCreatedVersion                   at  \\\n",
       "321            201                3.5.0  2020-10-23 09:03:07   \n",
       "278            173                3.5.0  2020-11-18 14:01:48   \n",
       "353            145                3.5.0  2020-10-03 05:23:02   \n",
       "34             141                4.0.1  2021-06-10 19:57:09   \n",
       "343            119                3.5.0  2020-10-11 10:56:53   \n",
       "227            110                4.0.1  2021-01-01 14:35:39   \n",
       "130             78                4.0.1  2021-03-18 18:14:28   \n",
       "169             63                4.0.1  2021-02-23 21:27:12   \n",
       "175             49                4.0.1  2021-02-14 18:27:29   \n",
       "489             49                3.4.1  2020-06-23 14:03:33   \n",
       "\n",
       "                                          replyContent            repliedAt  \n",
       "321                                                NaN                  NaN  \n",
       "278                                                NaN                  NaN  \n",
       "353  Hi there, we're sorry you're experiencing a pr...  2020-10-07 09:59:21  \n",
       "34                                                 NaN                  NaN  \n",
       "343                                                NaN                  NaN  \n",
       "227                                                NaN                  NaN  \n",
       "130                                                NaN                  NaN  \n",
       "169                                                NaN                  NaN  \n",
       "175                                                NaN                  NaN  \n",
       "489                                                NaN                  NaN  "
      ]
     },
     "execution_count": 13,
     "metadata": {},
     "output_type": "execute_result"
    }
   ],
   "source": [
    "#Checking top 10 reviews with most thumbs up Count:\n",
    "required_data.sort_values(by=[\"thumbsUpCount\"],ascending=False)[:10]"
   ]
  },
  {
   "cell_type": "markdown",
   "metadata": {},
   "source": [
    "### 7 out of top 10 Issues are because of the membership requirements. 2 of the top 10 issues is for Technical and 1 for Gameplay. Even though there are more individual instances of technical issues, a huge portion of the customers agree that membership issues are of high importance"
   ]
  },
  {
   "cell_type": "markdown",
   "metadata": {},
   "source": [
    "## 3.2.4 Response from developer by type of issue"
   ]
  },
  {
   "cell_type": "code",
   "execution_count": 14,
   "metadata": {},
   "outputs": [
    {
     "data": {
      "image/png": "[encoded data removed]",
      "text/plain": [
       "<Figure size 432x288 with 1 Axes>"
      ]
     },
     "metadata": {
      "needs_background": "light"
     },
     "output_type": "display_data"
    }
   ],
   "source": [
    "#Check number of issues replied to\n",
    "sns.countplot(x='reason', data=required_data.loc[required_data[\"replyContent\"].notnull()])\n",
    "plt.title(\"Number of Issues responded by type of issue\")\n",
    "plt.show()"
   ]
  },
  {
   "cell_type": "markdown",
   "metadata": {},
   "source": [
    "### Less than 100 issues had responses from the developer. The number of responses are distributed in a similar fashion as the number of issues."
   ]
  },
  {
   "cell_type": "markdown",
   "metadata": {},
   "source": [
    "## 3.2.5 Distribution of issues over time"
   ]
  },
  {
   "cell_type": "code",
   "execution_count": 15,
   "metadata": {},
   "outputs": [
    {
     "data": {
      "text/plain": [
       "content                         object\n",
       "reason                          object\n",
       "score                            int64\n",
       "thumbsUpCount                    int64\n",
       "reviewCreatedVersion            object\n",
       "at                      datetime64[ns]\n",
       "replyContent                    object\n",
       "repliedAt                       object\n",
       "time_period                  period[M]\n",
       "dtype: object"
      ]
     },
     "execution_count": 15,
     "metadata": {},
     "output_type": "execute_result"
    }
   ],
   "source": [
    "#Distribution of issues over time:\n",
    "required_data._is_copy= False # to avoid SettingWithCopyWarning warning https://stackoverflow.com/questions/40033471/getting-settingwithcopywarning-warning-even-after-using-loc-in-pandas\n",
    "required_data.loc[:,\"at\"]=pd.to_datetime(required_data[\"at\"]).dt.date #remove hours,minutes,seconds & convert datatype\n",
    "required_data.loc[:,\"at\"]=pd.to_datetime(required_data[\"at\"]) # convert to datetime object\n",
    "required_data[\"time_period\"]=pd.to_datetime(required_data['at'],format='%m%Y', errors='coerce').dt.to_period('m')\n",
    "required_data.dtypes"
   ]
  },
  {
   "cell_type": "code",
   "execution_count": 16,
   "metadata": {
    "scrolled": true
   },
   "outputs": [
    {
     "data": {
      "text/html": [
       "<div>\n",
       "<style scoped>\n",
       "    .dataframe tbody tr th:only-of-type {\n",
       "        vertical-align: middle;\n",
       "    }\n",
       "\n",
       "    .dataframe tbody tr th {\n",
       "        vertical-align: top;\n",
       "    }\n",
       "\n",
       "    .dataframe thead th {\n",
       "        text-align: right;\n",
       "    }\n",
       "</style>\n",
       "<table border=\"1\" class=\"dataframe\">\n",
       "  <thead>\n",
       "    <tr style=\"text-align: right;\">\n",
       "      <th></th>\n",
       "      <th>content</th>\n",
       "      <th>reason</th>\n",
       "      <th>score</th>\n",
       "      <th>thumbsUpCount</th>\n",
       "      <th>reviewCreatedVersion</th>\n",
       "      <th>at</th>\n",
       "      <th>replyContent</th>\n",
       "      <th>repliedAt</th>\n",
       "      <th>time_period</th>\n",
       "    </tr>\n",
       "  </thead>\n",
       "  <tbody>\n",
       "    <tr>\n",
       "      <th>0</th>\n",
       "      <td>Terrible</td>\n",
       "      <td>No specific reason</td>\n",
       "      <td>1</td>\n",
       "      <td>0</td>\n",
       "      <td>4.0.1</td>\n",
       "      <td>2021-07-12</td>\n",
       "      <td>NaN</td>\n",
       "      <td>NaN</td>\n",
       "      <td>2021-07</td>\n",
       "    </tr>\n",
       "    <tr>\n",
       "      <th>1</th>\n",
       "      <td>This is a horrible app! You have to have a mem...</td>\n",
       "      <td>Gameplay</td>\n",
       "      <td>1</td>\n",
       "      <td>11</td>\n",
       "      <td>4.0.1</td>\n",
       "      <td>2021-07-12</td>\n",
       "      <td>NaN</td>\n",
       "      <td>NaN</td>\n",
       "      <td>2021-07</td>\n",
       "    </tr>\n",
       "    <tr>\n",
       "      <th>2</th>\n",
       "      <td>This game is hella pay to win. Everything revo...</td>\n",
       "      <td>Gameplay</td>\n",
       "      <td>1</td>\n",
       "      <td>9</td>\n",
       "      <td>4.0.1</td>\n",
       "      <td>2021-07-11</td>\n",
       "      <td>NaN</td>\n",
       "      <td>NaN</td>\n",
       "      <td>2021-07</td>\n",
       "    </tr>\n",
       "    <tr>\n",
       "      <th>3</th>\n",
       "      <td>HORIBLE this gam is bad on phones and wont let...</td>\n",
       "      <td>Technical</td>\n",
       "      <td>1</td>\n",
       "      <td>0</td>\n",
       "      <td>NaN</td>\n",
       "      <td>2021-07-10</td>\n",
       "      <td>NaN</td>\n",
       "      <td>NaN</td>\n",
       "      <td>2021-07</td>\n",
       "    </tr>\n",
       "    <tr>\n",
       "      <th>4</th>\n",
       "      <td>It USED to be a good game until they added mem...</td>\n",
       "      <td>Membership</td>\n",
       "      <td>1</td>\n",
       "      <td>13</td>\n",
       "      <td>NaN</td>\n",
       "      <td>2021-07-09</td>\n",
       "      <td>NaN</td>\n",
       "      <td>NaN</td>\n",
       "      <td>2021-07</td>\n",
       "    </tr>\n",
       "    <tr>\n",
       "      <th>...</th>\n",
       "      <td>...</td>\n",
       "      <td>...</td>\n",
       "      <td>...</td>\n",
       "      <td>...</td>\n",
       "      <td>...</td>\n",
       "      <td>...</td>\n",
       "      <td>...</td>\n",
       "      <td>...</td>\n",
       "      <td>...</td>\n",
       "    </tr>\n",
       "    <tr>\n",
       "      <th>505</th>\n",
       "      <td>another math game &gt;:(</td>\n",
       "      <td>No specific reason</td>\n",
       "      <td>1</td>\n",
       "      <td>0</td>\n",
       "      <td>3.4.1</td>\n",
       "      <td>2020-06-12</td>\n",
       "      <td>NaN</td>\n",
       "      <td>NaN</td>\n",
       "      <td>2020-06</td>\n",
       "    </tr>\n",
       "    <tr>\n",
       "      <th>506</th>\n",
       "      <td>It not so fun I hate wizards the controls is n...</td>\n",
       "      <td>Gameplay</td>\n",
       "      <td>1</td>\n",
       "      <td>0</td>\n",
       "      <td>3.4.1</td>\n",
       "      <td>2020-06-12</td>\n",
       "      <td>NaN</td>\n",
       "      <td>NaN</td>\n",
       "      <td>2020-06</td>\n",
       "    </tr>\n",
       "    <tr>\n",
       "      <th>507</th>\n",
       "      <td>They changed it so much it was better before.</td>\n",
       "      <td>No specific reason</td>\n",
       "      <td>1</td>\n",
       "      <td>0</td>\n",
       "      <td>3.4.1</td>\n",
       "      <td>2020-06-12</td>\n",
       "      <td>NaN</td>\n",
       "      <td>NaN</td>\n",
       "      <td>2020-06</td>\n",
       "    </tr>\n",
       "    <tr>\n",
       "      <th>508</th>\n",
       "      <td>NOOOOOOOOOO!!!!!!!!!!!!!!!!! NOT TODAY NOT TOM...</td>\n",
       "      <td>No specific reason</td>\n",
       "      <td>1</td>\n",
       "      <td>0</td>\n",
       "      <td>NaN</td>\n",
       "      <td>2020-06-11</td>\n",
       "      <td>NaN</td>\n",
       "      <td>NaN</td>\n",
       "      <td>2020-06</td>\n",
       "    </tr>\n",
       "    <tr>\n",
       "      <th>509</th>\n",
       "      <td>Just great for schools, bad ofline.</td>\n",
       "      <td>No specific reason</td>\n",
       "      <td>1</td>\n",
       "      <td>0</td>\n",
       "      <td>3.4.1</td>\n",
       "      <td>2020-06-10</td>\n",
       "      <td>NaN</td>\n",
       "      <td>NaN</td>\n",
       "      <td>2020-06</td>\n",
       "    </tr>\n",
       "  </tbody>\n",
       "</table>\n",
       "<p>510 rows × 9 columns</p>\n",
       "</div>"
      ],
      "text/plain": [
       "                                               content              reason  \\\n",
       "0                                             Terrible  No specific reason   \n",
       "1    This is a horrible app! You have to have a mem...            Gameplay   \n",
       "2    This game is hella pay to win. Everything revo...            Gameplay   \n",
       "3    HORIBLE this gam is bad on phones and wont let...           Technical   \n",
       "4    It USED to be a good game until they added mem...          Membership   \n",
       "..                                                 ...                 ...   \n",
       "505                              another math game >:(  No specific reason   \n",
       "506  It not so fun I hate wizards the controls is n...            Gameplay   \n",
       "507      They changed it so much it was better before.  No specific reason   \n",
       "508  NOOOOOOOOOO!!!!!!!!!!!!!!!!! NOT TODAY NOT TOM...  No specific reason   \n",
       "509                Just great for schools, bad ofline.  No specific reason   \n",
       "\n",
       "     score  thumbsUpCount reviewCreatedVersion         at replyContent  \\\n",
       "0        1              0                4.0.1 2021-07-12          NaN   \n",
       "1        1             11                4.0.1 2021-07-12          NaN   \n",
       "2        1              9                4.0.1 2021-07-11          NaN   \n",
       "3        1              0                  NaN 2021-07-10          NaN   \n",
       "4        1             13                  NaN 2021-07-09          NaN   \n",
       "..     ...            ...                  ...        ...          ...   \n",
       "505      1              0                3.4.1 2020-06-12          NaN   \n",
       "506      1              0                3.4.1 2020-06-12          NaN   \n",
       "507      1              0                3.4.1 2020-06-12          NaN   \n",
       "508      1              0                  NaN 2020-06-11          NaN   \n",
       "509      1              0                3.4.1 2020-06-10          NaN   \n",
       "\n",
       "    repliedAt time_period  \n",
       "0         NaN     2021-07  \n",
       "1         NaN     2021-07  \n",
       "2         NaN     2021-07  \n",
       "3         NaN     2021-07  \n",
       "4         NaN     2021-07  \n",
       "..        ...         ...  \n",
       "505       NaN     2020-06  \n",
       "506       NaN     2020-06  \n",
       "507       NaN     2020-06  \n",
       "508       NaN     2020-06  \n",
       "509       NaN     2020-06  \n",
       "\n",
       "[510 rows x 9 columns]"
      ]
     },
     "execution_count": 16,
     "metadata": {},
     "output_type": "execute_result"
    }
   ],
   "source": [
    "required_data"
   ]
  },
  {
   "cell_type": "code",
   "execution_count": 17,
   "metadata": {},
   "outputs": [],
   "source": [
    "by_month=pd.DataFrame(required_data.value_counts(subset=[\"reason\",\"time_period\"]))\n",
    "by_month.columns=[\"counts\"] #change column name\n",
    "by_month.reset_index(inplace=True) # reset the index\n",
    "by_month.set_index([\"time_period\"],inplace=True) # set the date time as index\n",
    "by_month[\"review_month\"]=by_month.index.to_timestamp()"
   ]
  },
  {
   "cell_type": "code",
   "execution_count": 18,
   "metadata": {
    "scrolled": true
   },
   "outputs": [
    {
     "data": {
      "text/html": [
       "<div>\n",
       "<style scoped>\n",
       "    .dataframe tbody tr th:only-of-type {\n",
       "        vertical-align: middle;\n",
       "    }\n",
       "\n",
       "    .dataframe tbody tr th {\n",
       "        vertical-align: top;\n",
       "    }\n",
       "\n",
       "    .dataframe thead th {\n",
       "        text-align: right;\n",
       "    }\n",
       "</style>\n",
       "<table border=\"1\" class=\"dataframe\">\n",
       "  <thead>\n",
       "    <tr style=\"text-align: right;\">\n",
       "      <th></th>\n",
       "      <th>reason</th>\n",
       "      <th>counts</th>\n",
       "      <th>review_month</th>\n",
       "    </tr>\n",
       "    <tr>\n",
       "      <th>time_period</th>\n",
       "      <th></th>\n",
       "      <th></th>\n",
       "      <th></th>\n",
       "    </tr>\n",
       "  </thead>\n",
       "  <tbody>\n",
       "    <tr>\n",
       "      <th>2020-06</th>\n",
       "      <td>Membership</td>\n",
       "      <td>1</td>\n",
       "      <td>2020-06-01</td>\n",
       "    </tr>\n",
       "    <tr>\n",
       "      <th>2020-06</th>\n",
       "      <td>Gameplay</td>\n",
       "      <td>3</td>\n",
       "      <td>2020-06-01</td>\n",
       "    </tr>\n",
       "    <tr>\n",
       "      <th>2020-06</th>\n",
       "      <td>No specific reason</td>\n",
       "      <td>19</td>\n",
       "      <td>2020-06-01</td>\n",
       "    </tr>\n",
       "    <tr>\n",
       "      <th>2020-06</th>\n",
       "      <td>Technical</td>\n",
       "      <td>8</td>\n",
       "      <td>2020-06-01</td>\n",
       "    </tr>\n",
       "    <tr>\n",
       "      <th>2020-07</th>\n",
       "      <td>Gameplay</td>\n",
       "      <td>4</td>\n",
       "      <td>2020-07-01</td>\n",
       "    </tr>\n",
       "  </tbody>\n",
       "</table>\n",
       "</div>"
      ],
      "text/plain": [
       "                         reason  counts review_month\n",
       "time_period                                         \n",
       "2020-06              Membership       1   2020-06-01\n",
       "2020-06                Gameplay       3   2020-06-01\n",
       "2020-06      No specific reason      19   2020-06-01\n",
       "2020-06               Technical       8   2020-06-01\n",
       "2020-07                Gameplay       4   2020-07-01"
      ]
     },
     "execution_count": 18,
     "metadata": {},
     "output_type": "execute_result"
    }
   ],
   "source": [
    "by_month=by_month.sort_index()\n",
    "by_month.head()"
   ]
  },
  {
   "cell_type": "code",
   "execution_count": 32,
   "metadata": {
    "scrolled": false
   },
   "outputs": [
    {
     "data": {
      "image/png": "[encoded data removed]",
      "text/plain": [
       "<Figure size 1080x432 with 1 Axes>"
      ]
     },
     "metadata": {},
     "output_type": "display_data"
    }
   ],
   "source": [
    "fig, ax = plt.subplots(figsize=(15,6))\n",
    "#sns.set()\n",
    "sns.lineplot(data=by_month,x=\"review_month\",y=\"counts\",style=\"reason\",hue=\"reason\",markers=True)\n",
    "#sns.barplot(data=by_month,x=\"review_month\",y=\"counts\",hue=\"reason\")\n",
    "#plt.xticks(rotation=90)\n",
    "#x_dates = by_month['review_month'].dt.strftime('%m-%Y').unique()\n",
    "#ax.set_xticklabels(labels=x_dates, rotation=45, ha='right')\n",
    "plt.show()"
   ]
  },
  {
   "cell_type": "markdown",
   "metadata": {},
   "source": [
    "### No specific trend seen here. The number of issues is lower in July 2021 as we only have data for first 12 days."
   ]
  },
  {
   "cell_type": "markdown",
   "metadata": {},
   "source": [
    "## 4. Preprocessing"
   ]
  },
  {
   "cell_type": "markdown",
   "metadata": {},
   "source": [
    "### Since the text was extracted from google play store, it has to be cleaned.Only the review content is nalysed here. The replies from customer service is ignored."
   ]
  },
  {
   "cell_type": "code",
   "execution_count": 20,
   "metadata": {},
   "outputs": [
    {
     "data": {
      "text/html": [
       "<div>\n",
       "<style scoped>\n",
       "    .dataframe tbody tr th:only-of-type {\n",
       "        vertical-align: middle;\n",
       "    }\n",
       "\n",
       "    .dataframe tbody tr th {\n",
       "        vertical-align: top;\n",
       "    }\n",
       "\n",
       "    .dataframe thead th {\n",
       "        text-align: right;\n",
       "    }\n",
       "</style>\n",
       "<table border=\"1\" class=\"dataframe\">\n",
       "  <thead>\n",
       "    <tr style=\"text-align: right;\">\n",
       "      <th></th>\n",
       "      <th>content</th>\n",
       "      <th>reason</th>\n",
       "      <th>score</th>\n",
       "      <th>thumbsUpCount</th>\n",
       "      <th>reviewCreatedVersion</th>\n",
       "      <th>at</th>\n",
       "      <th>replyContent</th>\n",
       "      <th>repliedAt</th>\n",
       "      <th>time_period</th>\n",
       "    </tr>\n",
       "  </thead>\n",
       "  <tbody>\n",
       "    <tr>\n",
       "      <th>0</th>\n",
       "      <td>Terrible</td>\n",
       "      <td>No specific reason</td>\n",
       "      <td>1</td>\n",
       "      <td>0</td>\n",
       "      <td>4.0.1</td>\n",
       "      <td>2021-07-12</td>\n",
       "      <td>NaN</td>\n",
       "      <td>NaN</td>\n",
       "      <td>2021-07</td>\n",
       "    </tr>\n",
       "    <tr>\n",
       "      <th>1</th>\n",
       "      <td>This is a horrible app! You have to have a mem...</td>\n",
       "      <td>Gameplay</td>\n",
       "      <td>1</td>\n",
       "      <td>11</td>\n",
       "      <td>4.0.1</td>\n",
       "      <td>2021-07-12</td>\n",
       "      <td>NaN</td>\n",
       "      <td>NaN</td>\n",
       "      <td>2021-07</td>\n",
       "    </tr>\n",
       "    <tr>\n",
       "      <th>2</th>\n",
       "      <td>This game is hella pay to win. Everything revo...</td>\n",
       "      <td>Gameplay</td>\n",
       "      <td>1</td>\n",
       "      <td>9</td>\n",
       "      <td>4.0.1</td>\n",
       "      <td>2021-07-11</td>\n",
       "      <td>NaN</td>\n",
       "      <td>NaN</td>\n",
       "      <td>2021-07</td>\n",
       "    </tr>\n",
       "    <tr>\n",
       "      <th>3</th>\n",
       "      <td>HORIBLE this gam is bad on phones and wont let...</td>\n",
       "      <td>Technical</td>\n",
       "      <td>1</td>\n",
       "      <td>0</td>\n",
       "      <td>NaN</td>\n",
       "      <td>2021-07-10</td>\n",
       "      <td>NaN</td>\n",
       "      <td>NaN</td>\n",
       "      <td>2021-07</td>\n",
       "    </tr>\n",
       "    <tr>\n",
       "      <th>4</th>\n",
       "      <td>It USED to be a good game until they added mem...</td>\n",
       "      <td>Membership</td>\n",
       "      <td>1</td>\n",
       "      <td>13</td>\n",
       "      <td>NaN</td>\n",
       "      <td>2021-07-09</td>\n",
       "      <td>NaN</td>\n",
       "      <td>NaN</td>\n",
       "      <td>2021-07</td>\n",
       "    </tr>\n",
       "    <tr>\n",
       "      <th>...</th>\n",
       "      <td>...</td>\n",
       "      <td>...</td>\n",
       "      <td>...</td>\n",
       "      <td>...</td>\n",
       "      <td>...</td>\n",
       "      <td>...</td>\n",
       "      <td>...</td>\n",
       "      <td>...</td>\n",
       "      <td>...</td>\n",
       "    </tr>\n",
       "    <tr>\n",
       "      <th>505</th>\n",
       "      <td>another math game &gt;:(</td>\n",
       "      <td>No specific reason</td>\n",
       "      <td>1</td>\n",
       "      <td>0</td>\n",
       "      <td>3.4.1</td>\n",
       "      <td>2020-06-12</td>\n",
       "      <td>NaN</td>\n",
       "      <td>NaN</td>\n",
       "      <td>2020-06</td>\n",
       "    </tr>\n",
       "    <tr>\n",
       "      <th>506</th>\n",
       "      <td>It not so fun I hate wizards the controls is n...</td>\n",
       "      <td>Gameplay</td>\n",
       "      <td>1</td>\n",
       "      <td>0</td>\n",
       "      <td>3.4.1</td>\n",
       "      <td>2020-06-12</td>\n",
       "      <td>NaN</td>\n",
       "      <td>NaN</td>\n",
       "      <td>2020-06</td>\n",
       "    </tr>\n",
       "    <tr>\n",
       "      <th>507</th>\n",
       "      <td>They changed it so much it was better before.</td>\n",
       "      <td>No specific reason</td>\n",
       "      <td>1</td>\n",
       "      <td>0</td>\n",
       "      <td>3.4.1</td>\n",
       "      <td>2020-06-12</td>\n",
       "      <td>NaN</td>\n",
       "      <td>NaN</td>\n",
       "      <td>2020-06</td>\n",
       "    </tr>\n",
       "    <tr>\n",
       "      <th>508</th>\n",
       "      <td>NOOOOOOOOOO!!!!!!!!!!!!!!!!! NOT TODAY NOT TOM...</td>\n",
       "      <td>No specific reason</td>\n",
       "      <td>1</td>\n",
       "      <td>0</td>\n",
       "      <td>NaN</td>\n",
       "      <td>2020-06-11</td>\n",
       "      <td>NaN</td>\n",
       "      <td>NaN</td>\n",
       "      <td>2020-06</td>\n",
       "    </tr>\n",
       "    <tr>\n",
       "      <th>509</th>\n",
       "      <td>Just great for schools, bad ofline.</td>\n",
       "      <td>No specific reason</td>\n",
       "      <td>1</td>\n",
       "      <td>0</td>\n",
       "      <td>3.4.1</td>\n",
       "      <td>2020-06-10</td>\n",
       "      <td>NaN</td>\n",
       "      <td>NaN</td>\n",
       "      <td>2020-06</td>\n",
       "    </tr>\n",
       "  </tbody>\n",
       "</table>\n",
       "<p>510 rows × 9 columns</p>\n",
       "</div>"
      ],
      "text/plain": [
       "                                               content              reason  \\\n",
       "0                                             Terrible  No specific reason   \n",
       "1    This is a horrible app! You have to have a mem...            Gameplay   \n",
       "2    This game is hella pay to win. Everything revo...            Gameplay   \n",
       "3    HORIBLE this gam is bad on phones and wont let...           Technical   \n",
       "4    It USED to be a good game until they added mem...          Membership   \n",
       "..                                                 ...                 ...   \n",
       "505                              another math game >:(  No specific reason   \n",
       "506  It not so fun I hate wizards the controls is n...            Gameplay   \n",
       "507      They changed it so much it was better before.  No specific reason   \n",
       "508  NOOOOOOOOOO!!!!!!!!!!!!!!!!! NOT TODAY NOT TOM...  No specific reason   \n",
       "509                Just great for schools, bad ofline.  No specific reason   \n",
       "\n",
       "     score  thumbsUpCount reviewCreatedVersion         at replyContent  \\\n",
       "0        1              0                4.0.1 2021-07-12          NaN   \n",
       "1        1             11                4.0.1 2021-07-12          NaN   \n",
       "2        1              9                4.0.1 2021-07-11          NaN   \n",
       "3        1              0                  NaN 2021-07-10          NaN   \n",
       "4        1             13                  NaN 2021-07-09          NaN   \n",
       "..     ...            ...                  ...        ...          ...   \n",
       "505      1              0                3.4.1 2020-06-12          NaN   \n",
       "506      1              0                3.4.1 2020-06-12          NaN   \n",
       "507      1              0                3.4.1 2020-06-12          NaN   \n",
       "508      1              0                  NaN 2020-06-11          NaN   \n",
       "509      1              0                3.4.1 2020-06-10          NaN   \n",
       "\n",
       "    repliedAt time_period  \n",
       "0         NaN     2021-07  \n",
       "1         NaN     2021-07  \n",
       "2         NaN     2021-07  \n",
       "3         NaN     2021-07  \n",
       "4         NaN     2021-07  \n",
       "..        ...         ...  \n",
       "505       NaN     2020-06  \n",
       "506       NaN     2020-06  \n",
       "507       NaN     2020-06  \n",
       "508       NaN     2020-06  \n",
       "509       NaN     2020-06  \n",
       "\n",
       "[510 rows x 9 columns]"
      ]
     },
     "execution_count": 20,
     "metadata": {},
     "output_type": "execute_result"
    }
   ],
   "source": [
    "required_data"
   ]
  },
  {
   "cell_type": "code",
   "execution_count": 21,
   "metadata": {
    "scrolled": true
   },
   "outputs": [
    {
     "name": "stdout",
     "output_type": "stream",
     "text": [
      "another math game >:(\n"
     ]
    }
   ],
   "source": [
    "#taking sample data to see how text is present and what needs to be removed\n",
    "text=required_data[\"content\"][505]\n",
    "print(text)"
   ]
  },
  {
   "cell_type": "markdown",
   "metadata": {},
   "source": [
    "## 4.1 Function to clean text"
   ]
  },
  {
   "cell_type": "code",
   "execution_count": 22,
   "metadata": {},
   "outputs": [],
   "source": [
    "#function to remove characters other than alphabets\n",
    "def get_clean_text(sentence):\n",
    "    cleaned=\"\".join(re.sub(r'[^a-zA-Z ]+', '', word.lower()) for word in sentence)\n",
    "    #for word in sentence:\n",
    "    return cleaned.rstrip().lstrip()"
   ]
  },
  {
   "cell_type": "code",
   "execution_count": 23,
   "metadata": {
    "scrolled": true
   },
   "outputs": [
    {
     "data": {
      "text/plain": [
       "'another math game'"
      ]
     },
     "execution_count": 23,
     "metadata": {},
     "output_type": "execute_result"
    }
   ],
   "source": [
    "get_clean_text(text)"
   ]
  },
  {
   "cell_type": "markdown",
   "metadata": {},
   "source": [
    "## 4.2 Converting into clean text"
   ]
  },
  {
   "cell_type": "code",
   "execution_count": 24,
   "metadata": {},
   "outputs": [],
   "source": [
    "required_data[\"formatted_content\"]=required_data[\"content\"].apply(get_clean_text)"
   ]
  },
  {
   "cell_type": "markdown",
   "metadata": {},
   "source": [
    "## 4.3 Function to Lemmatize text"
   ]
  },
  {
   "cell_type": "code",
   "execution_count": 25,
   "metadata": {},
   "outputs": [],
   "source": [
    "#Function that lemmatizes words to reduce thge number of different variations of a feature\n",
    "def lemmatization(sentence):\n",
    "    lemmatized_sentance=\" \".join(WordNetLemmatizer().lemmatize(word) for word in sentence.split())\n",
    "    return lemmatized_sentance"
   ]
  },
  {
   "cell_type": "code",
   "execution_count": 26,
   "metadata": {},
   "outputs": [
    {
     "data": {
      "text/plain": [
       "'dog cat'"
      ]
     },
     "execution_count": 26,
     "metadata": {},
     "output_type": "execute_result"
    }
   ],
   "source": [
    "lemmatization('dogs cats')"
   ]
  },
  {
   "cell_type": "markdown",
   "metadata": {},
   "source": [
    "## 4.4 Applying Lemmatization"
   ]
  },
  {
   "cell_type": "code",
   "execution_count": 27,
   "metadata": {},
   "outputs": [],
   "source": [
    "required_data[\"lemmatized_content\"]=required_data[\"formatted_content\"].apply(lemmatization)"
   ]
  },
  {
   "cell_type": "code",
   "execution_count": 28,
   "metadata": {},
   "outputs": [
    {
     "data": {
      "text/html": [
       "<div>\n",
       "<style scoped>\n",
       "    .dataframe tbody tr th:only-of-type {\n",
       "        vertical-align: middle;\n",
       "    }\n",
       "\n",
       "    .dataframe tbody tr th {\n",
       "        vertical-align: top;\n",
       "    }\n",
       "\n",
       "    .dataframe thead th {\n",
       "        text-align: right;\n",
       "    }\n",
       "</style>\n",
       "<table border=\"1\" class=\"dataframe\">\n",
       "  <thead>\n",
       "    <tr style=\"text-align: right;\">\n",
       "      <th></th>\n",
       "      <th>content</th>\n",
       "      <th>reason</th>\n",
       "      <th>score</th>\n",
       "      <th>thumbsUpCount</th>\n",
       "      <th>reviewCreatedVersion</th>\n",
       "      <th>at</th>\n",
       "      <th>replyContent</th>\n",
       "      <th>repliedAt</th>\n",
       "      <th>time_period</th>\n",
       "      <th>formatted_content</th>\n",
       "      <th>lemmatized_content</th>\n",
       "    </tr>\n",
       "  </thead>\n",
       "  <tbody>\n",
       "    <tr>\n",
       "      <th>0</th>\n",
       "      <td>Terrible</td>\n",
       "      <td>No specific reason</td>\n",
       "      <td>1</td>\n",
       "      <td>0</td>\n",
       "      <td>4.0.1</td>\n",
       "      <td>2021-07-12</td>\n",
       "      <td>NaN</td>\n",
       "      <td>NaN</td>\n",
       "      <td>2021-07</td>\n",
       "      <td>terrible</td>\n",
       "      <td>terrible</td>\n",
       "    </tr>\n",
       "    <tr>\n",
       "      <th>1</th>\n",
       "      <td>This is a horrible app! You have to have a mem...</td>\n",
       "      <td>Gameplay</td>\n",
       "      <td>1</td>\n",
       "      <td>11</td>\n",
       "      <td>4.0.1</td>\n",
       "      <td>2021-07-12</td>\n",
       "      <td>NaN</td>\n",
       "      <td>NaN</td>\n",
       "      <td>2021-07</td>\n",
       "      <td>this is a horrible app you have to have a memb...</td>\n",
       "      <td>this is a horrible app you have to have a memb...</td>\n",
       "    </tr>\n",
       "    <tr>\n",
       "      <th>2</th>\n",
       "      <td>This game is hella pay to win. Everything revo...</td>\n",
       "      <td>Gameplay</td>\n",
       "      <td>1</td>\n",
       "      <td>9</td>\n",
       "      <td>4.0.1</td>\n",
       "      <td>2021-07-11</td>\n",
       "      <td>NaN</td>\n",
       "      <td>NaN</td>\n",
       "      <td>2021-07</td>\n",
       "      <td>this game is hella pay to win everything revol...</td>\n",
       "      <td>this game is hella pay to win everything revol...</td>\n",
       "    </tr>\n",
       "    <tr>\n",
       "      <th>3</th>\n",
       "      <td>HORIBLE this gam is bad on phones and wont let...</td>\n",
       "      <td>Technical</td>\n",
       "      <td>1</td>\n",
       "      <td>0</td>\n",
       "      <td>NaN</td>\n",
       "      <td>2021-07-10</td>\n",
       "      <td>NaN</td>\n",
       "      <td>NaN</td>\n",
       "      <td>2021-07</td>\n",
       "      <td>horible this gam is bad on phones and wont let...</td>\n",
       "      <td>horible this gam is bad on phone and wont let ...</td>\n",
       "    </tr>\n",
       "    <tr>\n",
       "      <th>4</th>\n",
       "      <td>It USED to be a good game until they added mem...</td>\n",
       "      <td>Membership</td>\n",
       "      <td>1</td>\n",
       "      <td>13</td>\n",
       "      <td>NaN</td>\n",
       "      <td>2021-07-09</td>\n",
       "      <td>NaN</td>\n",
       "      <td>NaN</td>\n",
       "      <td>2021-07</td>\n",
       "      <td>it used to be a good game until they added mem...</td>\n",
       "      <td>it used to be a good game until they added mem...</td>\n",
       "    </tr>\n",
       "    <tr>\n",
       "      <th>...</th>\n",
       "      <td>...</td>\n",
       "      <td>...</td>\n",
       "      <td>...</td>\n",
       "      <td>...</td>\n",
       "      <td>...</td>\n",
       "      <td>...</td>\n",
       "      <td>...</td>\n",
       "      <td>...</td>\n",
       "      <td>...</td>\n",
       "      <td>...</td>\n",
       "      <td>...</td>\n",
       "    </tr>\n",
       "    <tr>\n",
       "      <th>505</th>\n",
       "      <td>another math game &gt;:(</td>\n",
       "      <td>No specific reason</td>\n",
       "      <td>1</td>\n",
       "      <td>0</td>\n",
       "      <td>3.4.1</td>\n",
       "      <td>2020-06-12</td>\n",
       "      <td>NaN</td>\n",
       "      <td>NaN</td>\n",
       "      <td>2020-06</td>\n",
       "      <td>another math game</td>\n",
       "      <td>another math game</td>\n",
       "    </tr>\n",
       "    <tr>\n",
       "      <th>506</th>\n",
       "      <td>It not so fun I hate wizards the controls is n...</td>\n",
       "      <td>Gameplay</td>\n",
       "      <td>1</td>\n",
       "      <td>0</td>\n",
       "      <td>3.4.1</td>\n",
       "      <td>2020-06-12</td>\n",
       "      <td>NaN</td>\n",
       "      <td>NaN</td>\n",
       "      <td>2020-06</td>\n",
       "      <td>it not so fun i hate wizards the controls is n...</td>\n",
       "      <td>it not so fun i hate wizard the control is not...</td>\n",
       "    </tr>\n",
       "    <tr>\n",
       "      <th>507</th>\n",
       "      <td>They changed it so much it was better before.</td>\n",
       "      <td>No specific reason</td>\n",
       "      <td>1</td>\n",
       "      <td>0</td>\n",
       "      <td>3.4.1</td>\n",
       "      <td>2020-06-12</td>\n",
       "      <td>NaN</td>\n",
       "      <td>NaN</td>\n",
       "      <td>2020-06</td>\n",
       "      <td>they changed it so much it was better before</td>\n",
       "      <td>they changed it so much it wa better before</td>\n",
       "    </tr>\n",
       "    <tr>\n",
       "      <th>508</th>\n",
       "      <td>NOOOOOOOOOO!!!!!!!!!!!!!!!!! NOT TODAY NOT TOM...</td>\n",
       "      <td>No specific reason</td>\n",
       "      <td>1</td>\n",
       "      <td>0</td>\n",
       "      <td>NaN</td>\n",
       "      <td>2020-06-11</td>\n",
       "      <td>NaN</td>\n",
       "      <td>NaN</td>\n",
       "      <td>2020-06</td>\n",
       "      <td>noooooooooo not today not tomrow not ever</td>\n",
       "      <td>noooooooooo not today not tomrow not ever</td>\n",
       "    </tr>\n",
       "    <tr>\n",
       "      <th>509</th>\n",
       "      <td>Just great for schools, bad ofline.</td>\n",
       "      <td>No specific reason</td>\n",
       "      <td>1</td>\n",
       "      <td>0</td>\n",
       "      <td>3.4.1</td>\n",
       "      <td>2020-06-10</td>\n",
       "      <td>NaN</td>\n",
       "      <td>NaN</td>\n",
       "      <td>2020-06</td>\n",
       "      <td>just great for schools bad ofline</td>\n",
       "      <td>just great for school bad ofline</td>\n",
       "    </tr>\n",
       "  </tbody>\n",
       "</table>\n",
       "<p>510 rows × 11 columns</p>\n",
       "</div>"
      ],
      "text/plain": [
       "                                               content              reason  \\\n",
       "0                                             Terrible  No specific reason   \n",
       "1    This is a horrible app! You have to have a mem...            Gameplay   \n",
       "2    This game is hella pay to win. Everything revo...            Gameplay   \n",
       "3    HORIBLE this gam is bad on phones and wont let...           Technical   \n",
       "4    It USED to be a good game until they added mem...          Membership   \n",
       "..                                                 ...                 ...   \n",
       "505                              another math game >:(  No specific reason   \n",
       "506  It not so fun I hate wizards the controls is n...            Gameplay   \n",
       "507      They changed it so much it was better before.  No specific reason   \n",
       "508  NOOOOOOOOOO!!!!!!!!!!!!!!!!! NOT TODAY NOT TOM...  No specific reason   \n",
       "509                Just great for schools, bad ofline.  No specific reason   \n",
       "\n",
       "     score  thumbsUpCount reviewCreatedVersion         at replyContent  \\\n",
       "0        1              0                4.0.1 2021-07-12          NaN   \n",
       "1        1             11                4.0.1 2021-07-12          NaN   \n",
       "2        1              9                4.0.1 2021-07-11          NaN   \n",
       "3        1              0                  NaN 2021-07-10          NaN   \n",
       "4        1             13                  NaN 2021-07-09          NaN   \n",
       "..     ...            ...                  ...        ...          ...   \n",
       "505      1              0                3.4.1 2020-06-12          NaN   \n",
       "506      1              0                3.4.1 2020-06-12          NaN   \n",
       "507      1              0                3.4.1 2020-06-12          NaN   \n",
       "508      1              0                  NaN 2020-06-11          NaN   \n",
       "509      1              0                3.4.1 2020-06-10          NaN   \n",
       "\n",
       "    repliedAt time_period                                  formatted_content  \\\n",
       "0         NaN     2021-07                                           terrible   \n",
       "1         NaN     2021-07  this is a horrible app you have to have a memb...   \n",
       "2         NaN     2021-07  this game is hella pay to win everything revol...   \n",
       "3         NaN     2021-07  horible this gam is bad on phones and wont let...   \n",
       "4         NaN     2021-07  it used to be a good game until they added mem...   \n",
       "..        ...         ...                                                ...   \n",
       "505       NaN     2020-06                                  another math game   \n",
       "506       NaN     2020-06  it not so fun i hate wizards the controls is n...   \n",
       "507       NaN     2020-06       they changed it so much it was better before   \n",
       "508       NaN     2020-06          noooooooooo not today not tomrow not ever   \n",
       "509       NaN     2020-06                  just great for schools bad ofline   \n",
       "\n",
       "                                    lemmatized_content  \n",
       "0                                             terrible  \n",
       "1    this is a horrible app you have to have a memb...  \n",
       "2    this game is hella pay to win everything revol...  \n",
       "3    horible this gam is bad on phone and wont let ...  \n",
       "4    it used to be a good game until they added mem...  \n",
       "..                                                 ...  \n",
       "505                                  another math game  \n",
       "506  it not so fun i hate wizard the control is not...  \n",
       "507        they changed it so much it wa better before  \n",
       "508          noooooooooo not today not tomrow not ever  \n",
       "509                   just great for school bad ofline  \n",
       "\n",
       "[510 rows x 11 columns]"
      ]
     },
     "execution_count": 28,
     "metadata": {},
     "output_type": "execute_result"
    }
   ],
   "source": [
    "required_data"
   ]
  },
  {
   "cell_type": "markdown",
   "metadata": {},
   "source": [
    "## 4.5 Removing Unnecessary data"
   ]
  },
  {
   "cell_type": "code",
   "execution_count": 29,
   "metadata": {},
   "outputs": [],
   "source": [
    "preprocessed_dataframe=required_data.drop(['content', 'score', 'thumbsUpCount', 'reviewCreatedVersion',\n",
    "       'at', 'replyContent', 'repliedAt','formatted_content' ,'time_period'],axis=1)"
   ]
  },
  {
   "cell_type": "code",
   "execution_count": 30,
   "metadata": {
    "scrolled": true
   },
   "outputs": [
    {
     "data": {
      "text/html": [
       "<div>\n",
       "<style scoped>\n",
       "    .dataframe tbody tr th:only-of-type {\n",
       "        vertical-align: middle;\n",
       "    }\n",
       "\n",
       "    .dataframe tbody tr th {\n",
       "        vertical-align: top;\n",
       "    }\n",
       "\n",
       "    .dataframe thead th {\n",
       "        text-align: right;\n",
       "    }\n",
       "</style>\n",
       "<table border=\"1\" class=\"dataframe\">\n",
       "  <thead>\n",
       "    <tr style=\"text-align: right;\">\n",
       "      <th></th>\n",
       "      <th>reason</th>\n",
       "      <th>lemmatized_content</th>\n",
       "    </tr>\n",
       "  </thead>\n",
       "  <tbody>\n",
       "    <tr>\n",
       "      <th>0</th>\n",
       "      <td>No specific reason</td>\n",
       "      <td>terrible</td>\n",
       "    </tr>\n",
       "    <tr>\n",
       "      <th>1</th>\n",
       "      <td>Gameplay</td>\n",
       "      <td>this is a horrible app you have to have a memb...</td>\n",
       "    </tr>\n",
       "    <tr>\n",
       "      <th>2</th>\n",
       "      <td>Gameplay</td>\n",
       "      <td>this game is hella pay to win everything revol...</td>\n",
       "    </tr>\n",
       "    <tr>\n",
       "      <th>3</th>\n",
       "      <td>Technical</td>\n",
       "      <td>horible this gam is bad on phone and wont let ...</td>\n",
       "    </tr>\n",
       "    <tr>\n",
       "      <th>4</th>\n",
       "      <td>Membership</td>\n",
       "      <td>it used to be a good game until they added mem...</td>\n",
       "    </tr>\n",
       "    <tr>\n",
       "      <th>...</th>\n",
       "      <td>...</td>\n",
       "      <td>...</td>\n",
       "    </tr>\n",
       "    <tr>\n",
       "      <th>505</th>\n",
       "      <td>No specific reason</td>\n",
       "      <td>another math game</td>\n",
       "    </tr>\n",
       "    <tr>\n",
       "      <th>506</th>\n",
       "      <td>Gameplay</td>\n",
       "      <td>it not so fun i hate wizard the control is not...</td>\n",
       "    </tr>\n",
       "    <tr>\n",
       "      <th>507</th>\n",
       "      <td>No specific reason</td>\n",
       "      <td>they changed it so much it wa better before</td>\n",
       "    </tr>\n",
       "    <tr>\n",
       "      <th>508</th>\n",
       "      <td>No specific reason</td>\n",
       "      <td>noooooooooo not today not tomrow not ever</td>\n",
       "    </tr>\n",
       "    <tr>\n",
       "      <th>509</th>\n",
       "      <td>No specific reason</td>\n",
       "      <td>just great for school bad ofline</td>\n",
       "    </tr>\n",
       "  </tbody>\n",
       "</table>\n",
       "<p>510 rows × 2 columns</p>\n",
       "</div>"
      ],
      "text/plain": [
       "                 reason                                 lemmatized_content\n",
       "0    No specific reason                                           terrible\n",
       "1              Gameplay  this is a horrible app you have to have a memb...\n",
       "2              Gameplay  this game is hella pay to win everything revol...\n",
       "3             Technical  horible this gam is bad on phone and wont let ...\n",
       "4            Membership  it used to be a good game until they added mem...\n",
       "..                  ...                                                ...\n",
       "505  No specific reason                                  another math game\n",
       "506            Gameplay  it not so fun i hate wizard the control is not...\n",
       "507  No specific reason        they changed it so much it wa better before\n",
       "508  No specific reason          noooooooooo not today not tomrow not ever\n",
       "509  No specific reason                   just great for school bad ofline\n",
       "\n",
       "[510 rows x 2 columns]"
      ]
     },
     "execution_count": 30,
     "metadata": {},
     "output_type": "execute_result"
    }
   ],
   "source": [
    "preprocessed_dataframe"
   ]
  },
  {
   "cell_type": "markdown",
   "metadata": {},
   "source": [
    "## 4.6 Export data as CSV"
   ]
  },
  {
   "cell_type": "code",
   "execution_count": 31,
   "metadata": {},
   "outputs": [],
   "source": [
    "preprocessed_dataframe.to_csv(\"preprocessed_dataframe.csv\",index=False)"
   ]
  },
  {
   "cell_type": "markdown",
   "metadata": {},
   "source": [
    "## 5. Summary\n",
    "\n",
    "We have gained some good insights from this notebook. THere are a lot of times when the customer does not mention why they give a low rating. Ignoring that, the major reasons are membership related or technical. There are some gameplay issues too but there are not a lot of those.  \n",
    "\n",
    "The response rate is less than 20% from the developer and this could lead to customer feeling that their reviews are not valued. In the next notebook, we can look at a way to buiild a model to automatically classify issues and how it can be used to improve cutomer experience."
   ]
  }
 ],
 "metadata": {
  "kernelspec": {
   "display_name": "Python 3",
   "language": "python",
   "name": "python3"
  },
  "language_info": {
   "codemirror_mode": {
    "name": "ipython",
    "version": 3
   },
   "file_extension": ".py",
   "mimetype": "text/x-python",
   "name": "python",
   "nbconvert_exporter": "python",
   "pygments_lexer": "ipython3",
   "version": "3.8.8"
  }
 },
 "nbformat": 4,
 "nbformat_minor": 4
}
