{
 "cells": [
  {
   "cell_type": "markdown",
   "metadata": {},
   "source": [
    "# Modeling and hyperparamter tuning - Prodigy Eudcation review classifier\n",
    "\n",
    "## Contents\n",
    "\n",
    "    1. Introduction\n",
    "    2. Imports\n",
    "    3. Splitting the data into training and testing\n",
    "    4. Modeling and Hyperparamter Tuning\n",
    "        4.1 Default Logistic Regression (Unbalanced)\n",
    "        4.2 Scoring function for Hyperparamter tuning\n",
    "        4.3 Logistic Regression - Hyperparameter Tuning\n",
    "        4.4 Multinomial Naive Bayes classfier - Hyperparameter Tuning\n",
    "        4.5 Random Forest - Hyperparamter tuning\n",
    "        4.6 XGBoost - Hyperparamter Tuning\n",
    "        4.7 Keras model\n",
    "        4.8 Model selection\n",
    "    5. Business Impact\n",
    "    6. Summary\n",
    "    7. Future Work"
   ]
  },
  {
   "cell_type": "markdown",
   "metadata": {},
   "source": [
    "## 1. Introduction\n",
    "\n",
    "In this notebook, the review content and labels are split into training and testing sets and a variety of machine learning models will be fit to see which model can be used to predict the type of issue based on the user's review content. The data is already preprocessed in a formt suitable for analysis from the previous notebook."
   ]
  },
  {
   "cell_type": "markdown",
   "metadata": {},
   "source": [
    "## 2. Imports"
   ]
  },
  {
   "cell_type": "code",
   "execution_count": 1,
   "metadata": {},
   "outputs": [],
   "source": [
    "#Importing necessary packages\n",
    "import pandas as pd\n",
    "import numpy as np\n",
    "import matplotlib.pyplot as plt\n",
    "import seaborn as sns\n",
    "from matplotlib.pyplot import figure\n",
    "\n",
    "\n",
    "from sklearn.model_selection import train_test_split # to split into training and testing sets\n",
    "from sklearn.metrics import classification_report, matthews_corrcoef,plot_confusion_matrix\n",
    "from sklearn.feature_extraction.text import TfidfVectorizer # to convert words into features\n",
    "from sklearn.model_selection import RandomizedSearchCV #hyperparamter search\n",
    "from sklearn.linear_model import LogisticRegression #classification model\n",
    "from sklearn.naive_bayes import MultinomialNB #classification model\n",
    "from sklearn.ensemble import RandomForestClassifier #classification model\n",
    "from xgboost import XGBClassifier #classification model\n",
    "from sklearn.metrics import make_scorer #to make custom scoring function"
   ]
  },
  {
   "cell_type": "markdown",
   "metadata": {},
   "source": [
    "### The preprocessed data from previous notebook is saved as  csv to be used here."
   ]
  },
  {
   "cell_type": "code",
   "execution_count": 2,
   "metadata": {},
   "outputs": [],
   "source": [
    "data=pd.read_csv(\"preprocessed_dataframe.csv\")"
   ]
  },
  {
   "cell_type": "code",
   "execution_count": 3,
   "metadata": {
    "scrolled": true
   },
   "outputs": [
    {
     "data": {
      "text/html": [
       "<div>\n",
       "<style scoped>\n",
       "    .dataframe tbody tr th:only-of-type {\n",
       "        vertical-align: middle;\n",
       "    }\n",
       "\n",
       "    .dataframe tbody tr th {\n",
       "        vertical-align: top;\n",
       "    }\n",
       "\n",
       "    .dataframe thead th {\n",
       "        text-align: right;\n",
       "    }\n",
       "</style>\n",
       "<table border=\"1\" class=\"dataframe\">\n",
       "  <thead>\n",
       "    <tr style=\"text-align: right;\">\n",
       "      <th></th>\n",
       "      <th>reason</th>\n",
       "      <th>lemmatized_content</th>\n",
       "    </tr>\n",
       "  </thead>\n",
       "  <tbody>\n",
       "    <tr>\n",
       "      <th>0</th>\n",
       "      <td>No specific reason</td>\n",
       "      <td>terrible</td>\n",
       "    </tr>\n",
       "    <tr>\n",
       "      <th>1</th>\n",
       "      <td>Gameplay</td>\n",
       "      <td>this is a horrible app you have to have a memb...</td>\n",
       "    </tr>\n",
       "    <tr>\n",
       "      <th>2</th>\n",
       "      <td>Gameplay</td>\n",
       "      <td>this game is hella pay to win everything revol...</td>\n",
       "    </tr>\n",
       "    <tr>\n",
       "      <th>3</th>\n",
       "      <td>Technical</td>\n",
       "      <td>horible this gam is bad on phone and wont let ...</td>\n",
       "    </tr>\n",
       "    <tr>\n",
       "      <th>4</th>\n",
       "      <td>Membership</td>\n",
       "      <td>it used to be a good game until they added mem...</td>\n",
       "    </tr>\n",
       "  </tbody>\n",
       "</table>\n",
       "</div>"
      ],
      "text/plain": [
       "               reason                                 lemmatized_content\n",
       "0  No specific reason                                           terrible\n",
       "1            Gameplay  this is a horrible app you have to have a memb...\n",
       "2            Gameplay  this game is hella pay to win everything revol...\n",
       "3           Technical  horible this gam is bad on phone and wont let ...\n",
       "4          Membership  it used to be a good game until they added mem..."
      ]
     },
     "execution_count": 3,
     "metadata": {},
     "output_type": "execute_result"
    }
   ],
   "source": [
    "data.head()"
   ]
  },
  {
   "cell_type": "markdown",
   "metadata": {},
   "source": [
    "## 3. Splitting the data into training and testing"
   ]
  },
  {
   "cell_type": "code",
   "execution_count": 4,
   "metadata": {},
   "outputs": [],
   "source": [
    "#Defining the X and y variables\n",
    "X=data.lemmatized_content.astype('str')\n",
    "y=data.reason"
   ]
  },
  {
   "cell_type": "code",
   "execution_count": 5,
   "metadata": {},
   "outputs": [
    {
     "name": "stdout",
     "output_type": "stream",
     "text": [
      "(408,) (102,)\n"
     ]
    }
   ],
   "source": [
    "#Splitting into training and testing datasets\n",
    "X_train,X_test,y_train,y_test=train_test_split(X,y,test_size=0.2,stratify=y)\n",
    "print(X_train.shape,X_test.shape)"
   ]
  },
  {
   "cell_type": "code",
   "execution_count": 6,
   "metadata": {},
   "outputs": [],
   "source": [
    "vectorizertr = TfidfVectorizer(stop_words='english',\n",
    "                             ngram_range = ( 1 , 1 ),analyzer=\"word\", \n",
    "                             binary=False , token_pattern=r'\\w+' , sublinear_tf=False)\n",
    "tfidf_tr=vectorizertr.fit_transform(X_train)"
   ]
  },
  {
   "cell_type": "code",
   "execution_count": 7,
   "metadata": {},
   "outputs": [],
   "source": [
    "tfidf_ts=vectorizertr.transform(X_test)"
   ]
  },
  {
   "cell_type": "markdown",
   "metadata": {},
   "source": [
    "## 4. Modeling and Hyperparamter Tuning"
   ]
  },
  {
   "cell_type": "markdown",
   "metadata": {},
   "source": [
    "## 4.1 Default Logistic Regression (Unbalanced)"
   ]
  },
  {
   "cell_type": "code",
   "execution_count": 8,
   "metadata": {},
   "outputs": [
    {
     "data": {
      "text/plain": [
       "LogisticRegression()"
      ]
     },
     "execution_count": 8,
     "metadata": {},
     "output_type": "execute_result"
    }
   ],
   "source": [
    "clf=LogisticRegression()\n",
    "clf.fit(tfidf_tr,y_train)"
   ]
  },
  {
   "cell_type": "code",
   "execution_count": 9,
   "metadata": {},
   "outputs": [],
   "source": [
    "y_pred=clf.predict(tfidf_ts)"
   ]
  },
  {
   "cell_type": "code",
   "execution_count": 10,
   "metadata": {
    "scrolled": false
   },
   "outputs": [
    {
     "data": {
      "text/plain": [
       "<sklearn.metrics._plot.confusion_matrix.ConfusionMatrixDisplay at 0x1d27dcc7970>"
      ]
     },
     "execution_count": 10,
     "metadata": {},
     "output_type": "execute_result"
    },
    {
     "data": {
      "image/png": "[encoded data removed]",
      "text/plain": [
       "<Figure size 432x288 with 2 Axes>"
      ]
     },
     "metadata": {
      "needs_background": "light"
     },
     "output_type": "display_data"
    }
   ],
   "source": [
    "plot_confusion_matrix(clf, tfidf_ts, y_test,xticks_rotation='vertical')#,normalize=\"true\")"
   ]
  },
  {
   "cell_type": "code",
   "execution_count": 11,
   "metadata": {},
   "outputs": [
    {
     "name": "stdout",
     "output_type": "stream",
     "text": [
      "Matthews correlation coeff dor test set: 0.6093073296485769\n"
     ]
    }
   ],
   "source": [
    "## Metric for evaluating models: matthews coorelation \n",
    "#https://towardsdatascience.com/comprehensive-guide-on-multiclass-classification-metrics-af94cfb83fbd\n",
    "print(\"Matthews correlation coeff dor test set:\",matthews_corrcoef(y_test,y_pred))"
   ]
  },
  {
   "cell_type": "markdown",
   "metadata": {},
   "source": [
    "## 4.2 Scoring function for Hyperparamter tuning"
   ]
  },
  {
   "cell_type": "markdown",
   "metadata": {},
   "source": [
    "### The Matthews correltion coefficient is used as a scoring metric because it taes into account the true positives, true negatives, false positives and false negatives."
   ]
  },
  {
   "cell_type": "code",
   "execution_count": 12,
   "metadata": {},
   "outputs": [],
   "source": [
    "#scoring function for all models\n",
    "mcc_scorer=make_scorer(matthews_corrcoef)"
   ]
  },
  {
   "cell_type": "markdown",
   "metadata": {},
   "source": [
    "## 4.3 Logistic Regression - Hyperparameter Tuning"
   ]
  },
  {
   "cell_type": "code",
   "execution_count": 13,
   "metadata": {},
   "outputs": [],
   "source": [
    "w = [\"balanced\",None ]\n",
    "crange = np.arange(0.5, 20.0, 0.5)\n",
    "hyperparam_grid = {\"class_weight\": w,\n",
    "                   \"C\": crange,\n",
    "                   \"fit_intercept\": [True, False],\n",
    "                  \"multi_class\":[\"auto\",\"ovr\",\"multinomial\"]}"
   ]
  },
  {
   "cell_type": "code",
   "execution_count": 14,
   "metadata": {},
   "outputs": [
    {
     "name": "stderr",
     "output_type": "stream",
     "text": [
      "C:\\ProgramData\\Anaconda3\\lib\\site-packages\\sklearn\\model_selection\\_search.py:285: UserWarning: The total space of parameters 468 is smaller than n_iter=1000. Running 468 iterations. For exhaustive searches, use GridSearchCV.\n",
      "  warnings.warn(\n"
     ]
    },
    {
     "name": "stdout",
     "output_type": "stream",
     "text": [
      "Best score: 0.6224776589246579 with param: {'multi_class': 'ovr', 'fit_intercept': True, 'class_weight': 'balanced', 'C': 1.0}\n"
     ]
    }
   ],
   "source": [
    "# Create a randomized search object and fit \n",
    "log_rand_search = RandomizedSearchCV(LogisticRegression(),hyperparam_grid,scoring=mcc_scorer,n_iter=1000, cv=10, n_jobs=-1)\n",
    "log_rand_search.fit(tfidf_tr,y_train)\n",
    "print(f'Best score: {log_rand_search.best_score_} with param: {log_rand_search.best_params_}')"
   ]
  },
  {
   "cell_type": "code",
   "execution_count": 15,
   "metadata": {},
   "outputs": [
    {
     "name": "stdout",
     "output_type": "stream",
     "text": [
      "Matthews correlation coefficient for test set: 0.67\n"
     ]
    }
   ],
   "source": [
    "#Calculate the Matthew corr score for test set\n",
    "y_pred=log_rand_search.predict(tfidf_ts)\n",
    "log_test_score=round(matthews_corrcoef(y_test,y_pred),3)\n",
    "print(\"Matthews correlation coefficient for test set:\",log_test_score)"
   ]
  },
  {
   "cell_type": "code",
   "execution_count": 16,
   "metadata": {
    "scrolled": true
   },
   "outputs": [
    {
     "data": {
      "text/html": [
       "<div>\n",
       "<style scoped>\n",
       "    .dataframe tbody tr th:only-of-type {\n",
       "        vertical-align: middle;\n",
       "    }\n",
       "\n",
       "    .dataframe tbody tr th {\n",
       "        vertical-align: top;\n",
       "    }\n",
       "\n",
       "    .dataframe thead th {\n",
       "        text-align: right;\n",
       "    }\n",
       "</style>\n",
       "<table border=\"1\" class=\"dataframe\">\n",
       "  <thead>\n",
       "    <tr style=\"text-align: right;\">\n",
       "      <th></th>\n",
       "      <th>feature</th>\n",
       "      <th>coefficient</th>\n",
       "    </tr>\n",
       "  </thead>\n",
       "  <tbody>\n",
       "    <tr>\n",
       "      <th>792</th>\n",
       "      <td>suck</td>\n",
       "      <td>-1.139891</td>\n",
       "    </tr>\n",
       "    <tr>\n",
       "      <th>56</th>\n",
       "      <td>bad</td>\n",
       "      <td>-0.941740</td>\n",
       "    </tr>\n",
       "    <tr>\n",
       "      <th>524</th>\n",
       "      <td>membership</td>\n",
       "      <td>-0.910258</td>\n",
       "    </tr>\n",
       "    <tr>\n",
       "      <th>337</th>\n",
       "      <td>google</td>\n",
       "      <td>-0.847696</td>\n",
       "    </tr>\n",
       "    <tr>\n",
       "      <th>501</th>\n",
       "      <td>love</td>\n",
       "      <td>-0.832547</td>\n",
       "    </tr>\n",
       "    <tr>\n",
       "      <th>...</th>\n",
       "      <td>...</td>\n",
       "      <td>...</td>\n",
       "    </tr>\n",
       "    <tr>\n",
       "      <th>861</th>\n",
       "      <td>type</td>\n",
       "      <td>1.568627</td>\n",
       "    </tr>\n",
       "    <tr>\n",
       "      <th>680</th>\n",
       "      <td>remember</td>\n",
       "      <td>1.577908</td>\n",
       "    </tr>\n",
       "    <tr>\n",
       "      <th>495</th>\n",
       "      <td>look</td>\n",
       "      <td>1.690613</td>\n",
       "    </tr>\n",
       "    <tr>\n",
       "      <th>922</th>\n",
       "      <td>wizard</td>\n",
       "      <td>1.700477</td>\n",
       "    </tr>\n",
       "    <tr>\n",
       "      <th>82</th>\n",
       "      <td>boring</td>\n",
       "      <td>2.523038</td>\n",
       "    </tr>\n",
       "  </tbody>\n",
       "</table>\n",
       "<p>950 rows × 2 columns</p>\n",
       "</div>"
      ],
      "text/plain": [
       "        feature  coefficient\n",
       "792        suck    -1.139891\n",
       "56          bad    -0.941740\n",
       "524  membership    -0.910258\n",
       "337      google    -0.847696\n",
       "501        love    -0.832547\n",
       "..          ...          ...\n",
       "861        type     1.568627\n",
       "680    remember     1.577908\n",
       "495        look     1.690613\n",
       "922      wizard     1.700477\n",
       "82       boring     2.523038\n",
       "\n",
       "[950 rows x 2 columns]"
      ]
     },
     "execution_count": 16,
     "metadata": {},
     "output_type": "execute_result"
    }
   ],
   "source": [
    "coefficients_logistic=pd.DataFrame({\"feature\":vectorizertr.get_feature_names(),\"coefficient\":log_rand_search.best_estimator_.coef_[0]})\n",
    "coefficients_logistic.sort_values(by=\"coefficient\")"
   ]
  },
  {
   "cell_type": "code",
   "execution_count": 17,
   "metadata": {},
   "outputs": [
    {
     "data": {
      "text/plain": [
       "<sklearn.metrics._plot.confusion_matrix.ConfusionMatrixDisplay at 0x1d27de4f580>"
      ]
     },
     "execution_count": 17,
     "metadata": {},
     "output_type": "execute_result"
    },
    {
     "data": {
      "image/png": "[encoded data removed]",
      "text/plain": [
       "<Figure size 432x288 with 2 Axes>"
      ]
     },
     "metadata": {
      "needs_background": "light"
     },
     "output_type": "display_data"
    }
   ],
   "source": [
    "plot_confusion_matrix(log_rand_search, tfidf_ts, y_test,xticks_rotation='vertical')#,normalize=\"true\")"
   ]
  },
  {
   "cell_type": "markdown",
   "metadata": {},
   "source": [
    "## 4.4 Multinomial Naive Bayes classfier - Hyperparameter Tuning"
   ]
  },
  {
   "cell_type": "code",
   "execution_count": 18,
   "metadata": {},
   "outputs": [],
   "source": [
    "hyperparam_grid={\"alpha\":[0.001,0.005,0.1,0.2,0.3,0.4,0.5,0.6,0.7,0.8,0.9,1],\n",
    "                \"fit_prior\":[True,False]}"
   ]
  },
  {
   "cell_type": "code",
   "execution_count": 19,
   "metadata": {},
   "outputs": [
    {
     "name": "stderr",
     "output_type": "stream",
     "text": [
      "C:\\ProgramData\\Anaconda3\\lib\\site-packages\\sklearn\\model_selection\\_search.py:285: UserWarning: The total space of parameters 24 is smaller than n_iter=1000. Running 24 iterations. For exhaustive searches, use GridSearchCV.\n",
      "  warnings.warn(\n"
     ]
    },
    {
     "name": "stdout",
     "output_type": "stream",
     "text": [
      "Best score: 0.5840110561171775 with param: {'fit_prior': True, 'alpha': 0.1}\n"
     ]
    }
   ],
   "source": [
    "# Create a randomized search object and fit \n",
    "nb_rand_search = RandomizedSearchCV(MultinomialNB(),hyperparam_grid,scoring=mcc_scorer,n_iter=1000, cv=10, n_jobs=-1)\n",
    "nb_rand_search.fit(tfidf_tr,y_train)\n",
    "print(f'Best score: {nb_rand_search.best_score_} with param: {nb_rand_search.best_params_}')"
   ]
  },
  {
   "cell_type": "code",
   "execution_count": 20,
   "metadata": {},
   "outputs": [
    {
     "name": "stdout",
     "output_type": "stream",
     "text": [
      "Matthews correlation coefficient for test set: 0.569\n"
     ]
    }
   ],
   "source": [
    "#Calculate the Matthew corr score for test set\n",
    "y_pred=nb_rand_search.predict(tfidf_ts)\n",
    "nb_test_score=round(matthews_corrcoef(y_test,y_pred),3)\n",
    "print(\"Matthews correlation coefficient for test set:\",nb_test_score)"
   ]
  },
  {
   "cell_type": "code",
   "execution_count": 21,
   "metadata": {},
   "outputs": [
    {
     "data": {
      "text/plain": [
       "<sklearn.metrics._plot.confusion_matrix.ConfusionMatrixDisplay at 0x1d27c0d26d0>"
      ]
     },
     "execution_count": 21,
     "metadata": {},
     "output_type": "execute_result"
    },
    {
     "data": {
      "image/png": "[encoded data removed]",
      "text/plain": [
       "<Figure size 432x288 with 2 Axes>"
      ]
     },
     "metadata": {
      "needs_background": "light"
     },
     "output_type": "display_data"
    }
   ],
   "source": [
    "plot_confusion_matrix(nb_rand_search, tfidf_ts, y_test,xticks_rotation='vertical')#,normalize=\"true\")"
   ]
  },
  {
   "cell_type": "markdown",
   "metadata": {},
   "source": [
    "## 4.5 Random Forest - Hyperparamter tuning"
   ]
  },
  {
   "cell_type": "code",
   "execution_count": 22,
   "metadata": {},
   "outputs": [],
   "source": [
    "#Defining the hyperparmater space for random forest\n",
    "w = [None,\"balanced\"]\n",
    "hyperparam_grid={\"n_estimators\":[5,6,7,8,9,10,15,20,25,30,35,40,45,50,75,100,200],\n",
    "                   \"criterion\":[\"gini\", \"entropy\"],\n",
    "                   \"max_depth\":[1,2,3,4,5,10,15,20,25,50,75,100,125,150,200],\n",
    "                   \"max_features\":[\"auto\", \"sqrt\", \"log2\"],\n",
    "                   \"class_weight\":w,\n",
    "                   \"bootstrap\":[True,False]}"
   ]
  },
  {
   "cell_type": "code",
   "execution_count": 23,
   "metadata": {},
   "outputs": [
    {
     "name": "stdout",
     "output_type": "stream",
     "text": [
      "Best score: 0.6243885038092809 with param: {'n_estimators': 50, 'max_features': 'auto', 'max_depth': 15, 'criterion': 'gini', 'class_weight': 'balanced', 'bootstrap': False}\n"
     ]
    }
   ],
   "source": [
    "# Create a randomized search object and fit \n",
    "rand_forest_rand_search = RandomizedSearchCV(RandomForestClassifier(),hyperparam_grid,scoring=mcc_scorer,n_iter=1000, cv=10, n_jobs=-1)\n",
    "rand_forest_rand_search.fit(tfidf_tr,y_train)\n",
    "print(f'Best score: {rand_forest_rand_search.best_score_} with param: {rand_forest_rand_search.best_params_}')"
   ]
  },
  {
   "cell_type": "code",
   "execution_count": 24,
   "metadata": {},
   "outputs": [
    {
     "name": "stdout",
     "output_type": "stream",
     "text": [
      "Matthews correlation coefficient for test set: 0.615\n"
     ]
    }
   ],
   "source": [
    "#Calculate the Matthew corr score for test set\n",
    "y_pred=rand_forest_rand_search.predict(tfidf_ts)\n",
    "rf_test_score=round(matthews_corrcoef(y_test,y_pred),3)\n",
    "print(\"Matthews correlation coefficient for test set:\",rf_test_score)"
   ]
  },
  {
   "cell_type": "code",
   "execution_count": 25,
   "metadata": {},
   "outputs": [
    {
     "data": {
      "text/plain": [
       "<sklearn.metrics._plot.confusion_matrix.ConfusionMatrixDisplay at 0x1d27ddc6f70>"
      ]
     },
     "execution_count": 25,
     "metadata": {},
     "output_type": "execute_result"
    },
    {
     "data": {
      "image/png": "[encoded data removed]",
      "text/plain": [
       "<Figure size 432x288 with 2 Axes>"
      ]
     },
     "metadata": {
      "needs_background": "light"
     },
     "output_type": "display_data"
    }
   ],
   "source": [
    "plot_confusion_matrix(rand_forest_rand_search, tfidf_ts, y_test,xticks_rotation='vertical')#,normalize=\"true\")"
   ]
  },
  {
   "cell_type": "markdown",
   "metadata": {},
   "source": [
    "## 4.6 XGBoost - Hyperparamter Tuning"
   ]
  },
  {
   "cell_type": "code",
   "execution_count": 26,
   "metadata": {},
   "outputs": [],
   "source": [
    "# A parameter grid for XGBoost\n",
    "w = [None,\"balanced\"]\n",
    "hyperparam_grid = {\"n_estimators\":[5,6,7,8,9,10,15,20,25,30,35,40,45,50,75,100,200],\n",
    "          'min_child_weight': [1, 5, 10],\n",
    "          'gamma': [0.1, 0.25, 0.5, 1, 1.5, 2, 5],\n",
    "          'subsample': [0.6, 0.8, 1.0],\n",
    "          'colsample_bytree': [0.6, 0.8, 1.0],\n",
    "          'class_weight':w,\n",
    "          'max_depth': [1,2,3,4,5,10,15,20,25,50,75,100,125,150,200],\n",
    "          'learning_rate':[0.001,0.01,0.05,0.1,0.2,0.3]\n",
    "         }"
   ]
  },
  {
   "cell_type": "code",
   "execution_count": 27,
   "metadata": {},
   "outputs": [
    {
     "name": "stdout",
     "output_type": "stream",
     "text": [
      "[16:06:55] WARNING: C:/Users/Administrator/workspace/xgboost-win64_release_1.4.0/src/learner.cc:1095: Starting in XGBoost 1.3.0, the default evaluation metric used with the objective 'multi:softprob' was changed from 'merror' to 'mlogloss'. Explicitly set eval_metric if you'd like to restore the old behavior.\n",
      "Best score: 0.6146000681400418 with param: {'subsample': 1.0, 'n_estimators': 7, 'min_child_weight': 1, 'max_depth': 75, 'learning_rate': 0.3, 'gamma': 0.25, 'colsample_bytree': 0.6, 'class_weight': None}\n"
     ]
    },
    {
     "name": "stderr",
     "output_type": "stream",
     "text": [
      "C:\\ProgramData\\Anaconda3\\lib\\site-packages\\xgboost\\sklearn.py:1146: UserWarning: The use of label encoder in XGBClassifier is deprecated and will be removed in a future release. To remove this warning, do the following: 1) Pass option use_label_encoder=False when constructing XGBClassifier object; and 2) Encode your labels (y) as integers starting with 0, i.e. 0, 1, 2, ..., [num_class - 1].\n",
      "  warnings.warn(label_encoder_deprecation_msg, UserWarning)\n"
     ]
    }
   ],
   "source": [
    "# Create a randomized search object and fit \n",
    "xgb_rand_search = RandomizedSearchCV(XGBClassifier(),hyperparam_grid,scoring=mcc_scorer,n_iter=1000, cv=10, n_jobs=-1)\n",
    "xgb_rand_search.fit(tfidf_tr,y_train)\n",
    "print(f'Best score: {xgb_rand_search.best_score_} with param: {xgb_rand_search.best_params_}')"
   ]
  },
  {
   "cell_type": "code",
   "execution_count": 28,
   "metadata": {},
   "outputs": [
    {
     "name": "stdout",
     "output_type": "stream",
     "text": [
      "Matthews correlation coefficient for test set: 0.519\n"
     ]
    }
   ],
   "source": [
    "#Calculate the Matthew corr score for test set\n",
    "y_pred=xgb_rand_search.predict(tfidf_ts)\n",
    "xgb_test_score=round(matthews_corrcoef(y_test,y_pred),3)\n",
    "print(\"Matthews correlation coefficient for test set:\",xgb_test_score)"
   ]
  },
  {
   "cell_type": "code",
   "execution_count": 29,
   "metadata": {},
   "outputs": [
    {
     "data": {
      "text/plain": [
       "<sklearn.metrics._plot.confusion_matrix.ConfusionMatrixDisplay at 0x1d27df90f40>"
      ]
     },
     "execution_count": 29,
     "metadata": {},
     "output_type": "execute_result"
    },
    {
     "data": {
      "image/png": "[encoded data removed]",
      "text/plain": [
       "<Figure size 432x288 with 2 Axes>"
      ]
     },
     "metadata": {
      "needs_background": "light"
     },
     "output_type": "display_data"
    }
   ],
   "source": [
    "plot_confusion_matrix(xgb_rand_search, tfidf_ts, y_test,xticks_rotation='vertical')#,normalize=\"true\")"
   ]
  },
  {
   "cell_type": "markdown",
   "metadata": {},
   "source": [
    "## 4.7 Keras model"
   ]
  },
  {
   "cell_type": "markdown",
   "metadata": {},
   "source": [
    "For the keras model, a bag of words approach is attempted to see the performance"
   ]
  },
  {
   "cell_type": "code",
   "execution_count": 30,
   "metadata": {},
   "outputs": [],
   "source": [
    "import itertools\n",
    "import os\n",
    "\n",
    "%matplotlib inline\n",
    "import matplotlib.pyplot as plt\n",
    "import numpy as np\n",
    "import pandas as pd\n",
    "import tensorflow as tf\n",
    "\n",
    "from sklearn.preprocessing import LabelEncoder #LabelBinarizer, \n",
    "from sklearn.metrics import confusion_matrix\n",
    "\n",
    "from tensorflow import keras\n",
    "from keras.models import Sequential\n",
    "from keras.layers import Dense, Activation, Dropout\n",
    "from keras.preprocessing import text, sequence\n",
    "from keras import utils\n",
    "from tensorflow.keras import utils as np_utils\n",
    "from sklearn.metrics import confusion_matrix,ConfusionMatrixDisplay"
   ]
  },
  {
   "cell_type": "code",
   "execution_count": 31,
   "metadata": {},
   "outputs": [],
   "source": [
    "from keras import backend as K\n",
    "def matthews_correlation_coefficient(y_true, y_pred):\n",
    "    tp = K.sum(K.round(K.clip(y_true * y_pred, 0, 1)))\n",
    "    tn = K.sum(K.round(K.clip((1 - y_true) * (1 - y_pred), 0, 1)))\n",
    "    fp = K.sum(K.round(K.clip((1 - y_true) * y_pred, 0, 1)))\n",
    "    fn = K.sum(K.round(K.clip(y_true * (1 - y_pred), 0, 1)))\n",
    "\n",
    "    num = tp * tn - fp * fn\n",
    "    den = (tp + fp) * (tp + fn) * (tn + fp) * (tn + fn)\n",
    "    return num / K.sqrt(den + K.epsilon())"
   ]
  },
  {
   "cell_type": "code",
   "execution_count": 32,
   "metadata": {},
   "outputs": [
    {
     "name": "stdout",
     "output_type": "stream",
     "text": [
      "(408,) (102,)\n",
      "Epoch 1/100\n",
      "12/12 [==============================] - 19s 56ms/step - loss: 1.3614 - matthews_correlation_coefficient: 0.0132 - val_loss: 1.2099 - val_matthews_correlation_coefficient: 0.1464\n",
      "Epoch 2/100\n",
      "12/12 [==============================] - 0s 7ms/step - loss: 1.0831 - matthews_correlation_coefficient: 0.3069 - val_loss: 1.0623 - val_matthews_correlation_coefficient: 0.3019\n",
      "Epoch 3/100\n",
      "12/12 [==============================] - 0s 6ms/step - loss: 0.8792 - matthews_correlation_coefficient: 0.4483 - val_loss: 0.9336 - val_matthews_correlation_coefficient: 0.3019\n",
      "Epoch 4/100\n",
      "12/12 [==============================] - 0s 6ms/step - loss: 0.7270 - matthews_correlation_coefficient: 0.6202 - val_loss: 0.8193 - val_matthews_correlation_coefficient: 0.5808\n",
      "Epoch 5/100\n",
      "12/12 [==============================] - 0s 6ms/step - loss: 0.6076 - matthews_correlation_coefficient: 0.7443 - val_loss: 0.7171 - val_matthews_correlation_coefficient: 0.7071\n",
      "Epoch 6/100\n",
      "12/12 [==============================] - 0s 6ms/step - loss: 0.4729 - matthews_correlation_coefficient: 0.8095 - val_loss: 0.6371 - val_matthews_correlation_coefficient: 0.7571\n",
      "Epoch 7/100\n",
      "12/12 [==============================] - 0s 7ms/step - loss: 0.3535 - matthews_correlation_coefficient: 0.8889 - val_loss: 0.5772 - val_matthews_correlation_coefficient: 0.7955\n",
      "Epoch 8/100\n",
      "12/12 [==============================] - 0s 8ms/step - loss: 0.2576 - matthews_correlation_coefficient: 0.9339 - val_loss: 0.5466 - val_matthews_correlation_coefficient: 0.7839\n",
      "Epoch 9/100\n",
      "12/12 [==============================] - 0s 6ms/step - loss: 0.2574 - matthews_correlation_coefficient: 0.9202 - val_loss: 0.5083 - val_matthews_correlation_coefficient: 0.7955\n",
      "Epoch 10/100\n",
      "12/12 [==============================] - 0s 6ms/step - loss: 0.1905 - matthews_correlation_coefficient: 0.9437 - val_loss: 0.4883 - val_matthews_correlation_coefficient: 0.7955\n",
      "Epoch 11/100\n",
      "12/12 [==============================] - 0s 7ms/step - loss: 0.1575 - matthews_correlation_coefficient: 0.9642 - val_loss: 0.4672 - val_matthews_correlation_coefficient: 0.8443\n",
      "Epoch 12/100\n",
      "12/12 [==============================] - 0s 6ms/step - loss: 0.1422 - matthews_correlation_coefficient: 0.9610 - val_loss: 0.4522 - val_matthews_correlation_coefficient: 0.8329\n",
      "Epoch 13/100\n",
      "12/12 [==============================] - 0s 6ms/step - loss: 0.1171 - matthews_correlation_coefficient: 0.9722 - val_loss: 0.4361 - val_matthews_correlation_coefficient: 0.8329\n",
      "Epoch 14/100\n",
      "12/12 [==============================] - 0s 7ms/step - loss: 0.0990 - matthews_correlation_coefficient: 0.9720 - val_loss: 0.4354 - val_matthews_correlation_coefficient: 0.8329\n",
      "Epoch 15/100\n",
      "12/12 [==============================] - 0s 6ms/step - loss: 0.0706 - matthews_correlation_coefficient: 0.9897 - val_loss: 0.4338 - val_matthews_correlation_coefficient: 0.8222\n",
      "Epoch 16/100\n",
      "12/12 [==============================] - 0s 6ms/step - loss: 0.0744 - matthews_correlation_coefficient: 0.9773 - val_loss: 0.4347 - val_matthews_correlation_coefficient: 0.8222\n",
      "Epoch 17/100\n",
      "12/12 [==============================] - 0s 7ms/step - loss: 0.0764 - matthews_correlation_coefficient: 0.9840 - val_loss: 0.4450 - val_matthews_correlation_coefficient: 0.8023\n",
      "Epoch 18/100\n",
      "12/12 [==============================] - 0s 7ms/step - loss: 0.0684 - matthews_correlation_coefficient: 0.9819 - val_loss: 0.4524 - val_matthews_correlation_coefficient: 0.8023\n",
      "Epoch 19/100\n",
      "12/12 [==============================] - 0s 6ms/step - loss: 0.0596 - matthews_correlation_coefficient: 0.9849 - val_loss: 0.4648 - val_matthews_correlation_coefficient: 0.8023\n",
      "Epoch 20/100\n",
      "12/12 [==============================] - 0s 6ms/step - loss: 0.0499 - matthews_correlation_coefficient: 0.9876 - val_loss: 0.4624 - val_matthews_correlation_coefficient: 0.8023\n",
      "Epoch 21/100\n",
      "12/12 [==============================] - 0s 7ms/step - loss: 0.0511 - matthews_correlation_coefficient: 0.9852 - val_loss: 0.4655 - val_matthews_correlation_coefficient: 0.8023\n",
      "Epoch 22/100\n",
      "12/12 [==============================] - 0s 6ms/step - loss: 0.0367 - matthews_correlation_coefficient: 0.9924 - val_loss: 0.4714 - val_matthews_correlation_coefficient: 0.8023\n",
      "Epoch 23/100\n",
      "12/12 [==============================] - 0s 8ms/step - loss: 0.0420 - matthews_correlation_coefficient: 0.9883 - val_loss: 0.4768 - val_matthews_correlation_coefficient: 0.7930\n",
      "Epoch 24/100\n",
      "12/12 [==============================] - 0s 6ms/step - loss: 0.0319 - matthews_correlation_coefficient: 0.9981 - val_loss: 0.4764 - val_matthews_correlation_coefficient: 0.7930\n",
      "Epoch 25/100\n",
      "12/12 [==============================] - 0s 5ms/step - loss: 0.0406 - matthews_correlation_coefficient: 0.9824 - val_loss: 0.4707 - val_matthews_correlation_coefficient: 0.7930\n",
      "Epoch 26/100\n",
      "12/12 [==============================] - 0s 8ms/step - loss: 0.0344 - matthews_correlation_coefficient: 0.9956 - val_loss: 0.4741 - val_matthews_correlation_coefficient: 0.8051\n",
      "Epoch 27/100\n",
      "12/12 [==============================] - 0s 5ms/step - loss: 0.0254 - matthews_correlation_coefficient: 0.9964 - val_loss: 0.4879 - val_matthews_correlation_coefficient: 0.7840\n",
      "Epoch 28/100\n",
      "12/12 [==============================] - 0s 7ms/step - loss: 0.0304 - matthews_correlation_coefficient: 0.9916 - val_loss: 0.5010 - val_matthews_correlation_coefficient: 0.7840\n",
      "Epoch 29/100\n",
      "12/12 [==============================] - 0s 6ms/step - loss: 0.0199 - matthews_correlation_coefficient: 0.9968 - val_loss: 0.5059 - val_matthews_correlation_coefficient: 0.7840\n",
      "Epoch 30/100\n",
      "12/12 [==============================] - 0s 5ms/step - loss: 0.0247 - matthews_correlation_coefficient: 0.9962 - val_loss: 0.5167 - val_matthews_correlation_coefficient: 0.7840\n",
      "Epoch 31/100\n",
      "12/12 [==============================] - 0s 7ms/step - loss: 0.0294 - matthews_correlation_coefficient: 0.9867 - val_loss: 0.5246 - val_matthews_correlation_coefficient: 0.7470\n",
      "Epoch 32/100\n",
      "12/12 [==============================] - 0s 6ms/step - loss: 0.0275 - matthews_correlation_coefficient: 0.9883 - val_loss: 0.5251 - val_matthews_correlation_coefficient: 0.7840\n",
      "Epoch 33/100\n",
      "12/12 [==============================] - 0s 7ms/step - loss: 0.0249 - matthews_correlation_coefficient: 0.9912 - val_loss: 0.5225 - val_matthews_correlation_coefficient: 0.7840\n",
      "Epoch 34/100\n",
      "12/12 [==============================] - 0s 6ms/step - loss: 0.0176 - matthews_correlation_coefficient: 0.9953 - val_loss: 0.5273 - val_matthews_correlation_coefficient: 0.7840\n",
      "Epoch 35/100\n",
      "12/12 [==============================] - 0s 5ms/step - loss: 0.0158 - matthews_correlation_coefficient: 0.9971 - val_loss: 0.5376 - val_matthews_correlation_coefficient: 0.7470\n",
      "Epoch 36/100\n",
      "12/12 [==============================] - 0s 7ms/step - loss: 0.0170 - matthews_correlation_coefficient: 0.9900 - val_loss: 0.5434 - val_matthews_correlation_coefficient: 0.7470\n",
      "Epoch 37/100\n",
      "12/12 [==============================] - 0s 6ms/step - loss: 0.0168 - matthews_correlation_coefficient: 0.9911 - val_loss: 0.5390 - val_matthews_correlation_coefficient: 0.7840\n",
      "Epoch 38/100\n",
      "12/12 [==============================] - 0s 7ms/step - loss: 0.0169 - matthews_correlation_coefficient: 0.9955 - val_loss: 0.5433 - val_matthews_correlation_coefficient: 0.7717\n",
      "Epoch 39/100\n",
      "12/12 [==============================] - 0s 7ms/step - loss: 0.0229 - matthews_correlation_coefficient: 0.9886 - val_loss: 0.5497 - val_matthews_correlation_coefficient: 0.7470\n",
      "Epoch 40/100\n",
      "12/12 [==============================] - 0s 7ms/step - loss: 0.0167 - matthews_correlation_coefficient: 0.9970 - val_loss: 0.5510 - val_matthews_correlation_coefficient: 0.7717\n",
      "Epoch 41/100\n",
      "12/12 [==============================] - 0s 7ms/step - loss: 0.0188 - matthews_correlation_coefficient: 0.9950 - val_loss: 0.5628 - val_matthews_correlation_coefficient: 0.7630\n",
      "Epoch 42/100\n",
      "12/12 [==============================] - 0s 5ms/step - loss: 0.0206 - matthews_correlation_coefficient: 0.9833 - val_loss: 0.5730 - val_matthews_correlation_coefficient: 0.7384\n",
      "Epoch 43/100\n",
      "12/12 [==============================] - 0s 6ms/step - loss: 0.0180 - matthews_correlation_coefficient: 0.9814 - val_loss: 0.5718 - val_matthews_correlation_coefficient: 0.7260\n",
      "Epoch 44/100\n"
     ]
    },
    {
     "name": "stdout",
     "output_type": "stream",
     "text": [
      "12/12 [==============================] - 0s 7ms/step - loss: 0.0113 - matthews_correlation_coefficient: 0.9961 - val_loss: 0.5712 - val_matthews_correlation_coefficient: 0.7347\n",
      "Epoch 45/100\n",
      "12/12 [==============================] - 0s 6ms/step - loss: 0.0117 - matthews_correlation_coefficient: 0.9973 - val_loss: 0.5665 - val_matthews_correlation_coefficient: 0.7717\n",
      "Epoch 46/100\n",
      "12/12 [==============================] - 0s 6ms/step - loss: 0.0113 - matthews_correlation_coefficient: 0.9985 - val_loss: 0.5685 - val_matthews_correlation_coefficient: 0.7717\n",
      "Epoch 47/100\n",
      "12/12 [==============================] - 0s 6ms/step - loss: 0.0144 - matthews_correlation_coefficient: 0.9931 - val_loss: 0.5741 - val_matthews_correlation_coefficient: 0.7717\n",
      "Epoch 48/100\n",
      "12/12 [==============================] - 0s 6ms/step - loss: 0.0122 - matthews_correlation_coefficient: 0.9916 - val_loss: 0.5798 - val_matthews_correlation_coefficient: 0.7717\n",
      "Epoch 49/100\n",
      "12/12 [==============================] - 0s 8ms/step - loss: 0.0187 - matthews_correlation_coefficient: 0.9824 - val_loss: 0.5752 - val_matthews_correlation_coefficient: 0.7717\n",
      "Epoch 50/100\n",
      "12/12 [==============================] - 0s 9ms/step - loss: 0.0106 - matthews_correlation_coefficient: 0.9934 - val_loss: 0.5816 - val_matthews_correlation_coefficient: 0.7717\n",
      "Epoch 51/100\n",
      "12/12 [==============================] - 0s 6ms/step - loss: 0.0169 - matthews_correlation_coefficient: 0.9871 - val_loss: 0.5808 - val_matthews_correlation_coefficient: 0.7717\n",
      "Epoch 52/100\n",
      "12/12 [==============================] - 0s 8ms/step - loss: 0.0182 - matthews_correlation_coefficient: 0.9917 - val_loss: 0.5878 - val_matthews_correlation_coefficient: 0.7808\n",
      "Epoch 53/100\n",
      "12/12 [==============================] - 0s 6ms/step - loss: 0.0144 - matthews_correlation_coefficient: 0.9901 - val_loss: 0.5926 - val_matthews_correlation_coefficient: 0.7808\n",
      "Epoch 54/100\n",
      "12/12 [==============================] - 0s 7ms/step - loss: 0.0164 - matthews_correlation_coefficient: 0.9848 - val_loss: 0.5971 - val_matthews_correlation_coefficient: 0.7717\n",
      "Epoch 55/100\n",
      "12/12 [==============================] - 0s 6ms/step - loss: 0.0095 - matthews_correlation_coefficient: 0.9936 - val_loss: 0.5998 - val_matthews_correlation_coefficient: 0.7717\n",
      "Epoch 56/100\n",
      "12/12 [==============================] - 0s 6ms/step - loss: 0.0129 - matthews_correlation_coefficient: 0.9868 - val_loss: 0.6026 - val_matthews_correlation_coefficient: 0.7630\n",
      "Epoch 57/100\n",
      "12/12 [==============================] - 0s 6ms/step - loss: 0.0166 - matthews_correlation_coefficient: 0.9934 - val_loss: 0.6124 - val_matthews_correlation_coefficient: 0.7347\n",
      "Epoch 58/100\n",
      "12/12 [==============================] - 0s 6ms/step - loss: 0.0082 - matthews_correlation_coefficient: 0.9947 - val_loss: 0.6198 - val_matthews_correlation_coefficient: 0.7260\n",
      "Epoch 59/100\n",
      "12/12 [==============================] - 0s 6ms/step - loss: 0.0074 - matthews_correlation_coefficient: 0.9961 - val_loss: 0.6232 - val_matthews_correlation_coefficient: 0.7347\n",
      "Epoch 60/100\n",
      "12/12 [==============================] - 0s 6ms/step - loss: 0.0086 - matthews_correlation_coefficient: 0.9965 - val_loss: 0.6237 - val_matthews_correlation_coefficient: 0.7260\n",
      "Epoch 61/100\n",
      "12/12 [==============================] - 0s 7ms/step - loss: 0.0141 - matthews_correlation_coefficient: 0.9858 - val_loss: 0.6240 - val_matthews_correlation_coefficient: 0.7630\n",
      "Epoch 62/100\n",
      "12/12 [==============================] - 0s 7ms/step - loss: 0.0101 - matthews_correlation_coefficient: 0.9905 - val_loss: 0.6277 - val_matthews_correlation_coefficient: 0.7630\n",
      "Epoch 63/100\n",
      "12/12 [==============================] - 0s 6ms/step - loss: 0.0170 - matthews_correlation_coefficient: 0.9965 - val_loss: 0.6338 - val_matthews_correlation_coefficient: 0.7717\n",
      "Epoch 64/100\n",
      "12/12 [==============================] - 0s 8ms/step - loss: 0.0078 - matthews_correlation_coefficient: 0.9974 - val_loss: 0.6391 - val_matthews_correlation_coefficient: 0.7630\n",
      "Epoch 65/100\n",
      "12/12 [==============================] - 0s 7ms/step - loss: 0.0160 - matthews_correlation_coefficient: 0.9835 - val_loss: 0.6416 - val_matthews_correlation_coefficient: 0.7546\n",
      "Epoch 66/100\n",
      "12/12 [==============================] - 0s 7ms/step - loss: 0.0118 - matthews_correlation_coefficient: 0.9906 - val_loss: 0.6487 - val_matthews_correlation_coefficient: 0.7546\n",
      "Epoch 67/100\n",
      "12/12 [==============================] - 0s 8ms/step - loss: 0.0109 - matthews_correlation_coefficient: 1.0000 - val_loss: 0.6535 - val_matthews_correlation_coefficient: 0.7176\n",
      "Epoch 68/100\n",
      "12/12 [==============================] - 0s 7ms/step - loss: 0.0150 - matthews_correlation_coefficient: 0.9936 - val_loss: 0.6669 - val_matthews_correlation_coefficient: 0.7260\n",
      "Epoch 69/100\n",
      "12/12 [==============================] - 0s 6ms/step - loss: 0.0100 - matthews_correlation_coefficient: 0.9989 - val_loss: 0.6738 - val_matthews_correlation_coefficient: 0.7260\n",
      "Epoch 70/100\n",
      "12/12 [==============================] - 0s 7ms/step - loss: 0.0052 - matthews_correlation_coefficient: 0.9983 - val_loss: 0.6815 - val_matthews_correlation_coefficient: 0.7260\n",
      "Epoch 71/100\n",
      "12/12 [==============================] - 0s 7ms/step - loss: 0.0139 - matthews_correlation_coefficient: 0.9892 - val_loss: 0.6804 - val_matthews_correlation_coefficient: 0.7260\n",
      "Epoch 72/100\n",
      "12/12 [==============================] - 0s 7ms/step - loss: 0.0109 - matthews_correlation_coefficient: 0.9921 - val_loss: 0.6788 - val_matthews_correlation_coefficient: 0.7176\n",
      "Epoch 73/100\n",
      "12/12 [==============================] - 0s 7ms/step - loss: 0.0118 - matthews_correlation_coefficient: 0.9887 - val_loss: 0.6893 - val_matthews_correlation_coefficient: 0.7176\n",
      "Epoch 74/100\n",
      "12/12 [==============================] - 0s 7ms/step - loss: 0.0092 - matthews_correlation_coefficient: 0.9992 - val_loss: 0.6907 - val_matthews_correlation_coefficient: 0.7176\n",
      "Epoch 75/100\n",
      "12/12 [==============================] - 0s 7ms/step - loss: 0.0095 - matthews_correlation_coefficient: 0.9880 - val_loss: 0.6913 - val_matthews_correlation_coefficient: 0.7176\n",
      "Epoch 76/100\n",
      "12/12 [==============================] - 0s 5ms/step - loss: 0.0049 - matthews_correlation_coefficient: 0.9992 - val_loss: 0.6839 - val_matthews_correlation_coefficient: 0.7260\n",
      "Epoch 77/100\n",
      "12/12 [==============================] - 0s 7ms/step - loss: 0.0086 - matthews_correlation_coefficient: 0.9938 - val_loss: 0.6847 - val_matthews_correlation_coefficient: 0.7260\n",
      "Epoch 78/100\n",
      "12/12 [==============================] - 0s 7ms/step - loss: 0.0095 - matthews_correlation_coefficient: 0.9899 - val_loss: 0.6933 - val_matthews_correlation_coefficient: 0.7260\n",
      "Epoch 79/100\n",
      "12/12 [==============================] - 0s 7ms/step - loss: 0.0108 - matthews_correlation_coefficient: 0.9867 - val_loss: 0.7040 - val_matthews_correlation_coefficient: 0.7176\n",
      "Epoch 80/100\n",
      "12/12 [==============================] - 0s 7ms/step - loss: 0.0078 - matthews_correlation_coefficient: 0.9989 - val_loss: 0.7026 - val_matthews_correlation_coefficient: 0.7260\n",
      "Epoch 81/100\n",
      "12/12 [==============================] - 0s 6ms/step - loss: 0.0184 - matthews_correlation_coefficient: 0.9784 - val_loss: 0.6996 - val_matthews_correlation_coefficient: 0.7260\n",
      "Epoch 82/100\n",
      "12/12 [==============================] - 0s 5ms/step - loss: 0.0075 - matthews_correlation_coefficient: 0.9963 - val_loss: 0.7002 - val_matthews_correlation_coefficient: 0.7260\n",
      "Epoch 83/100\n",
      "12/12 [==============================] - 0s 6ms/step - loss: 0.0068 - matthews_correlation_coefficient: 1.0000 - val_loss: 0.7116 - val_matthews_correlation_coefficient: 0.7260\n",
      "Epoch 84/100\n",
      "12/12 [==============================] - 0s 6ms/step - loss: 0.0083 - matthews_correlation_coefficient: 0.9965 - val_loss: 0.7096 - val_matthews_correlation_coefficient: 0.7260\n",
      "Epoch 85/100\n",
      "12/12 [==============================] - 0s 6ms/step - loss: 0.0138 - matthews_correlation_coefficient: 0.9874 - val_loss: 0.7135 - val_matthews_correlation_coefficient: 0.7260\n",
      "Epoch 86/100\n",
      "12/12 [==============================] - 0s 8ms/step - loss: 0.0104 - matthews_correlation_coefficient: 0.9895 - val_loss: 0.7249 - val_matthews_correlation_coefficient: 0.7176\n",
      "Epoch 87/100\n"
     ]
    },
    {
     "name": "stdout",
     "output_type": "stream",
     "text": [
      "12/12 [==============================] - 0s 6ms/step - loss: 0.0097 - matthews_correlation_coefficient: 0.9966 - val_loss: 0.7262 - val_matthews_correlation_coefficient: 0.7176\n",
      "Epoch 88/100\n",
      "12/12 [==============================] - 0s 6ms/step - loss: 0.0086 - matthews_correlation_coefficient: 0.9911 - val_loss: 0.7205 - val_matthews_correlation_coefficient: 0.7260\n",
      "Epoch 89/100\n",
      "12/12 [==============================] - 0s 5ms/step - loss: 0.0136 - matthews_correlation_coefficient: 0.9942 - val_loss: 0.7266 - val_matthews_correlation_coefficient: 0.7260\n",
      "Epoch 90/100\n",
      "12/12 [==============================] - 0s 6ms/step - loss: 0.0125 - matthews_correlation_coefficient: 0.9965 - val_loss: 0.7312 - val_matthews_correlation_coefficient: 0.7260\n",
      "Epoch 91/100\n",
      "12/12 [==============================] - 0s 6ms/step - loss: 0.0081 - matthews_correlation_coefficient: 0.9916 - val_loss: 0.7348 - val_matthews_correlation_coefficient: 0.7260\n",
      "Epoch 92/100\n",
      "12/12 [==============================] - 0s 5ms/step - loss: 0.0093 - matthews_correlation_coefficient: 0.9868 - val_loss: 0.7425 - val_matthews_correlation_coefficient: 0.7176\n",
      "Epoch 93/100\n",
      "12/12 [==============================] - 0s 6ms/step - loss: 0.0122 - matthews_correlation_coefficient: 0.9989 - val_loss: 0.7438 - val_matthews_correlation_coefficient: 0.7176\n",
      "Epoch 94/100\n",
      "12/12 [==============================] - 0s 6ms/step - loss: 0.0093 - matthews_correlation_coefficient: 0.9930 - val_loss: 0.7406 - val_matthews_correlation_coefficient: 0.7260\n",
      "Epoch 95/100\n",
      "12/12 [==============================] - 0s 6ms/step - loss: 0.0086 - matthews_correlation_coefficient: 0.9906 - val_loss: 0.7472 - val_matthews_correlation_coefficient: 0.7260\n",
      "Epoch 96/100\n",
      "12/12 [==============================] - 0s 6ms/step - loss: 0.0085 - matthews_correlation_coefficient: 0.9904 - val_loss: 0.7314 - val_matthews_correlation_coefficient: 0.7347\n",
      "Epoch 97/100\n",
      "12/12 [==============================] - 0s 5ms/step - loss: 0.0158 - matthews_correlation_coefficient: 0.9876 - val_loss: 0.7278 - val_matthews_correlation_coefficient: 0.7260\n",
      "Epoch 98/100\n",
      "12/12 [==============================] - 0s 6ms/step - loss: 0.0100 - matthews_correlation_coefficient: 0.9957 - val_loss: 0.7318 - val_matthews_correlation_coefficient: 0.7260\n",
      "Epoch 99/100\n",
      "12/12 [==============================] - 0s 6ms/step - loss: 0.0088 - matthews_correlation_coefficient: 0.9956 - val_loss: 0.7313 - val_matthews_correlation_coefficient: 0.7260\n",
      "Epoch 100/100\n",
      "12/12 [==============================] - 0s 6ms/step - loss: 0.0071 - matthews_correlation_coefficient: 0.9915 - val_loss: 0.7318 - val_matthews_correlation_coefficient: 0.7260\n"
     ]
    }
   ],
   "source": [
    "#Splitting into training and testing datasets\n",
    "X_train,X_test,y_train,y_test=train_test_split(X,y,test_size=0.2,stratify=y)\n",
    "print(X_train.shape,X_test.shape)\n",
    "\n",
    "#Converting into tokens\n",
    "max_words = 1000\n",
    "tokenize = text.Tokenizer(num_words=max_words, char_level=False)\n",
    "tokenize.fit_on_texts(X_train) # only fit on train\n",
    "\n",
    "x_train = tokenize.texts_to_matrix(X_train) #convert training dat\n",
    "x_test = tokenize.texts_to_matrix(X_test) #convert testing data\n",
    "\n",
    "#Encode categorical output \n",
    "encoder = LabelEncoder()\n",
    "encoder.fit(y)\n",
    "y_train = encoder.transform(y_train)\n",
    "y_test = encoder.transform(y_test)\n",
    "\n",
    "#to have 4 output probabilities from the model\n",
    "num_classes = np.max(y_train) + 1\n",
    "y_train = np_utils.to_categorical(y_train, num_classes)\n",
    "y_test = np_utils.to_categorical(y_test, num_classes)\n",
    "\n",
    "#set batch size and epoch\n",
    "batch_size = 32\n",
    "epochs = 100\n",
    "\n",
    "# Build the model\n",
    "model = Sequential()\n",
    "model.add(Dense(512, input_shape=(max_words,))) #input layer\n",
    "model.add(Activation('relu')) #activation for input layer\n",
    "model.add(Dropout(0.5)) #set drop out\n",
    "model.add(Dense(num_classes)) #output layer\n",
    "model.add(Activation('softmax')) #activation for output layer\n",
    "\n",
    "model.compile(loss='categorical_crossentropy',\n",
    "              optimizer='adam',\n",
    "              metrics=[matthews_correlation_coefficient])\n",
    "              \n",
    "history = model.fit(x_train, y_train,\n",
    "                    batch_size=batch_size,\n",
    "                    epochs=epochs,\n",
    "                    verbose=1,\n",
    "                    validation_split=0.1)"
   ]
  },
  {
   "cell_type": "code",
   "execution_count": 38,
   "metadata": {},
   "outputs": [
    {
     "name": "stdout",
     "output_type": "stream",
     "text": [
      "Matthews correlation coefficient for training set: 0.9591182\n",
      "Matthews correlation coefficient for test set: 0.7049332\n"
     ]
    }
   ],
   "source": [
    "#Calculate the Matthew corr score for training set\n",
    "y_train_pred=model.predict(x_train)\n",
    "nn_train_score=matthews_correlation_coefficient(y_train,y_train_pred).numpy()\n",
    "print(\"Matthews correlation coefficient for training set:\", nn_train_score)\n",
    "\n",
    "\n",
    "#Calculate the Matthew corr score for test set\n",
    "y_pred=model.predict(x_test)\n",
    "nn_test_score=matthews_correlation_coefficient(y_test,y_pred).numpy()\n",
    "print(\"Matthews correlation coefficient for test set:\",nn_test_score)"
   ]
  },
  {
   "cell_type": "code",
   "execution_count": 39,
   "metadata": {
    "scrolled": true
   },
   "outputs": [
    {
     "name": "stdout",
     "output_type": "stream",
     "text": [
      "Matthews correlation coefficient for test set: 0.688937211784481\n"
     ]
    }
   ],
   "source": [
    "y_pred_converted=np.argmax(y_pred, axis=1)\n",
    "y_test_converted=np.argmax(y_test, axis=1)\n",
    "print(\"Matthews correlation coefficient for test set:\", matthews_corrcoef(y_test_converted,y_pred_converted))"
   ]
  },
  {
   "cell_type": "code",
   "execution_count": 53,
   "metadata": {},
   "outputs": [
    {
     "data": {
      "image/png": "[encoded data removed]",
      "text/plain": [
       "<Figure size 432x288 with 2 Axes>"
      ]
     },
     "metadata": {
      "needs_background": "light"
     },
     "output_type": "display_data"
    }
   ],
   "source": [
    "cm=confusion_matrix(y_test_converted,y_pred_converted)\n",
    "fig=ConfusionMatrixDisplay(cm,display_labels=encoder.classes_)\n",
    "fig.plot(xticks_rotation='vertical')\n",
    "plt.show()"
   ]
  },
  {
   "cell_type": "code",
   "execution_count": 54,
   "metadata": {},
   "outputs": [
    {
     "name": "stdout",
     "output_type": "stream",
     "text": [
      "Model: \"sequential\"\n",
      "_________________________________________________________________\n",
      "Layer (type)                 Output Shape              Param #   \n",
      "=================================================================\n",
      "dense (Dense)                (None, 512)               512512    \n",
      "_________________________________________________________________\n",
      "activation (Activation)      (None, 512)               0         \n",
      "_________________________________________________________________\n",
      "dropout (Dropout)            (None, 512)               0         \n",
      "_________________________________________________________________\n",
      "dense_1 (Dense)              (None, 4)                 2052      \n",
      "_________________________________________________________________\n",
      "activation_1 (Activation)    (None, 4)                 0         \n",
      "=================================================================\n",
      "Total params: 514,564\n",
      "Trainable params: 514,564\n",
      "Non-trainable params: 0\n",
      "_________________________________________________________________\n"
     ]
    }
   ],
   "source": [
    "model.summary()"
   ]
  },
  {
   "cell_type": "markdown",
   "metadata": {},
   "source": [
    "# Confusion Matrix for nueral network"
   ]
  },
  {
   "cell_type": "markdown",
   "metadata": {},
   "source": [
    "## 4.8 Model selection\n",
    "\n",
    "Now, it is time to comapre the performance of all models that have been trained so far and pick the one that would be used in making predictions."
   ]
  },
  {
   "cell_type": "code",
   "execution_count": 42,
   "metadata": {},
   "outputs": [],
   "source": [
    "model_selection=pd.DataFrame({\"Type of Classifier\":[\"Logistic Regression\",\"Multinomial Naive Bayes\",\"Random Forest\",\"XGBoost\",\"Neural Network\"],\n",
    "                             \"training scores\":[log_rand_search.best_score_,nb_rand_search.best_score_,rand_forest_rand_search.best_score_,xgb_rand_search.best_score_,nn_train_score],\n",
    "                             \"testing scores\":[log_test_score,nb_test_score,rf_test_score,xgb_test_score,nn_test_score]}).round(3)"
   ]
  },
  {
   "cell_type": "code",
   "execution_count": 43,
   "metadata": {},
   "outputs": [
    {
     "data": {
      "text/html": [
       "<div>\n",
       "<style scoped>\n",
       "    .dataframe tbody tr th:only-of-type {\n",
       "        vertical-align: middle;\n",
       "    }\n",
       "\n",
       "    .dataframe tbody tr th {\n",
       "        vertical-align: top;\n",
       "    }\n",
       "\n",
       "    .dataframe thead th {\n",
       "        text-align: right;\n",
       "    }\n",
       "</style>\n",
       "<table border=\"1\" class=\"dataframe\">\n",
       "  <thead>\n",
       "    <tr style=\"text-align: right;\">\n",
       "      <th></th>\n",
       "      <th>Type of Classifier</th>\n",
       "      <th>training scores</th>\n",
       "      <th>testing scores</th>\n",
       "    </tr>\n",
       "  </thead>\n",
       "  <tbody>\n",
       "    <tr>\n",
       "      <th>0</th>\n",
       "      <td>Logistic Regression</td>\n",
       "      <td>0.622</td>\n",
       "      <td>0.670</td>\n",
       "    </tr>\n",
       "    <tr>\n",
       "      <th>1</th>\n",
       "      <td>Multinomial Naive Bayes</td>\n",
       "      <td>0.584</td>\n",
       "      <td>0.569</td>\n",
       "    </tr>\n",
       "    <tr>\n",
       "      <th>2</th>\n",
       "      <td>Random Forest</td>\n",
       "      <td>0.624</td>\n",
       "      <td>0.615</td>\n",
       "    </tr>\n",
       "    <tr>\n",
       "      <th>3</th>\n",
       "      <td>XGBoost</td>\n",
       "      <td>0.615</td>\n",
       "      <td>0.519</td>\n",
       "    </tr>\n",
       "    <tr>\n",
       "      <th>4</th>\n",
       "      <td>Neural Network</td>\n",
       "      <td>0.959</td>\n",
       "      <td>0.705</td>\n",
       "    </tr>\n",
       "  </tbody>\n",
       "</table>\n",
       "</div>"
      ],
      "text/plain": [
       "        Type of Classifier  training scores  testing scores\n",
       "0      Logistic Regression            0.622           0.670\n",
       "1  Multinomial Naive Bayes            0.584           0.569\n",
       "2            Random Forest            0.624           0.615\n",
       "3                  XGBoost            0.615           0.519\n",
       "4           Neural Network            0.959           0.705"
      ]
     },
     "execution_count": 43,
     "metadata": {},
     "output_type": "execute_result"
    }
   ],
   "source": [
    "model_selection"
   ]
  },
  {
   "cell_type": "markdown",
   "metadata": {},
   "source": [
    "## 5. Business Impact \n",
    "\n",
    "Based on the performance of the models in the different sets, the Neural network model is used for classfying the customer reviews into different categories. This can be used to do the following:\n",
    "    \n",
    "    1. Automatically classify the customer issues into different segments and send pre-programmed responses\n",
    "    2. Monitor what type of issue is on the rise in real time\n",
    "    3. Send issues to respective teams for resolution\n",
    "    4. Prioritize issues to work on based on how many customers agree to each type of issue\n",
    "    5. Use this as a means to predict why customers churn"
   ]
  },
  {
   "cell_type": "markdown",
   "metadata": {},
   "source": [
    "## 6. Summary \n",
    "\n",
    "The final model is predicting the different issues at about 78% accuracy. This is valuable in automated communication to the customer as well as sending these issues to specific teams. Once the issues are addressed, the reviews can be tracked again to keep improving the customer rating.\n",
    "\n",
    "\n",
    "## 7. Future Work\n",
    "The model performance can be improved by including reviews with 2 or 3 stars and then training the models as well as data from the Apple Store. "
   ]
  }
 ],
 "metadata": {
  "kernelspec": {
   "display_name": "Python 3",
   "language": "python",
   "name": "python3"
  },
  "language_info": {
   "codemirror_mode": {
    "name": "ipython",
    "version": 3
   },
   "file_extension": ".py",
   "mimetype": "text/x-python",
   "name": "python",
   "nbconvert_exporter": "python",
   "pygments_lexer": "ipython3",
   "version": "3.8.8"
  }
 },
 "nbformat": 4,
 "nbformat_minor": 4
}
